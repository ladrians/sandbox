{
 "cells": [
  {
   "cell_type": "markdown",
   "id": "56bb3b2c-faeb-41ec-8499-508a8bc71b76",
   "metadata": {},
   "source": [
    "# L5: Optimizing HNSW Search"
   ]
  },
  {
   "cell_type": "code",
   "execution_count": null,
   "id": "c7e55908-829a-4ca0-8741-36cf858a6073",
   "metadata": {
    "height": 47
   },
   "outputs": [],
   "source": [
    "import warnings\n",
    "warnings.filterwarnings('ignore')"
   ]
  },
  {
   "cell_type": "code",
   "execution_count": null,
   "id": "e79d2302-3983-4e72-a6b0-262d63fd57ad",
   "metadata": {
    "height": 183
   },
   "outputs": [],
   "source": [
    "from qdrant_client import QdrantClient, models\n",
    "\n",
    "client = QdrantClient(\"http://localhost:6333\", timeout=600)\n",
    "client.delete_collection(\"wands-products\")\n",
    "client.recover_snapshot(\n",
    "    \"wands-products\", \n",
    "    \"https://storage.googleapis.com/deeplearning-course-c1/snapshots/wands-products.snapshot\",\n",
    ")\n",
    "collection = client.get_collection(\"wands-products\")\n",
    "collection"
   ]
  },
  {
   "cell_type": "markdown",
   "id": "6851f682-907b-4bcf-aaf7-55cabbcde19f",
   "metadata": {},
   "source": [
    "## HNSW parameters"
   ]
  },
  {
   "cell_type": "code",
   "execution_count": null,
   "id": "8d5379f6-be97-4dcf-98a3-060d88d4d3c6",
   "metadata": {
    "height": 30
   },
   "outputs": [],
   "source": [
    "collection.config.hnsw_config"
   ]
  },
  {
   "cell_type": "markdown",
   "id": "85f9e8ea-c5d0-487d-b74d-b37aabe2c2d2",
   "metadata": {},
   "source": [
    "## Test queries"
   ]
  },
  {
   "cell_type": "code",
   "execution_count": null,
   "id": "6851df66-ded3-40f2-b252-c680a32921de",
   "metadata": {
    "height": 64
   },
   "outputs": [],
   "source": [
    "from sentence_transformers import SentenceTransformer\n",
    "\n",
    "model = SentenceTransformer(\"all-MiniLM-L6-v2\")"
   ]
  },
  {
   "cell_type": "code",
   "execution_count": null,
   "id": "74912810-c4ef-4373-86d6-77a095ef01ec",
   "metadata": {
    "height": 200
   },
   "outputs": [],
   "source": [
    "import pandas as pd\n",
    "\n",
    "queries_df = pd.read_csv(\n",
    "    \"shared_data/WANDS/query.csv\", \n",
    "    sep=\"\\t\", \n",
    "    index_col=\"query_id\",\n",
    ")\n",
    "queries_df[\"query_embedding\"] = model.encode(\n",
    "    queries_df[\"query\"].tolist()\n",
    ").tolist()\n",
    "queries_df.sample(n=5)"
   ]
  },
  {
   "cell_type": "markdown",
   "id": "7e390e12-a29f-4852-9066-daf2f9516f46",
   "metadata": {},
   "source": [
    "## ANN search"
   ]
  },
  {
   "cell_type": "code",
   "execution_count": null,
   "id": "22aced61-6e22-4ebe-bd35-60509e744aa2",
   "metadata": {
    "height": 183
   },
   "outputs": [],
   "source": [
    "client.search(\n",
    "    \"wands-products\",\n",
    "    query_vector=models.NamedVector(\n",
    "        name=\"product_name\",\n",
    "        vector=model.encode(queries_df.loc[0, \"query\"])\n",
    "    ),\n",
    "    limit=3,\n",
    "    with_vectors=False,\n",
    "    with_payload=False,\n",
    ")"
   ]
  },
  {
   "cell_type": "markdown",
   "id": "81ce6f2f-2fbe-48fe-b3a6-1fa36be0f77f",
   "metadata": {},
   "source": [
    "## kNN search"
   ]
  },
  {
   "cell_type": "code",
   "execution_count": null,
   "id": "3657ed96-81a5-409b-9502-9eaf551fe434",
   "metadata": {
    "height": 234
   },
   "outputs": [],
   "source": [
    "client.search(\n",
    "    \"wands-products\",\n",
    "    query_vector=models.NamedVector(\n",
    "        name=\"product_name\",\n",
    "        vector=model.encode(queries_df.loc[0, \"query\"])\n",
    "    ),\n",
    "    limit=3,\n",
    "    with_vectors=False,\n",
    "    with_payload=False,\n",
    "    search_params=models.SearchParams(\n",
    "        exact=True,  # Turns on the exact search mode\n",
    "    ),\n",
    ")"
   ]
  },
  {
   "cell_type": "markdown",
   "id": "e534f367-61fa-4b19-8ca8-e5af289d19a4",
   "metadata": {},
   "source": [
    "### Ground truth"
   ]
  },
  {
   "cell_type": "code",
   "execution_count": null,
   "id": "daef2453-f14d-4d77-9f33-b9285bd71920",
   "metadata": {
    "height": 489
   },
   "outputs": [],
   "source": [
    "from collections import defaultdict\n",
    "from ranx import Qrels\n",
    "\n",
    "knn_qrels_dict = defaultdict(dict)\n",
    "for id, row in queries_df.iterrows():\n",
    "    query_id = f\"query_{id}\"\n",
    "    \n",
    "    results = client.search(\n",
    "        collection_name=\"wands-products\",\n",
    "        query_vector=models.NamedVector(\n",
    "            name=\"product_name\", \n",
    "            vector=row[\"query_embedding\"]\n",
    "        ),\n",
    "        with_vectors=False,\n",
    "        with_payload=False,\n",
    "        limit=100,\n",
    "        search_params=models.SearchParams(\n",
    "            exact=True,  # enable exact search\n",
    "        ),\n",
    "    )\n",
    "    \n",
    "    for point in results:\n",
    "        document_id = f\"doc_{point.id}\"\n",
    "        # The conversion to integer is required because ranx expects integers\n",
    "        knn_qrels_dict[query_id][document_id] = int(point.score * 100)\n",
    "    \n",
    "qrels = Qrels(knn_qrels_dict)\n",
    "qrels"
   ]
  },
  {
   "cell_type": "markdown",
   "id": "8fadd860-a248-4ccc-bac9-d71be7306d56",
   "metadata": {},
   "source": [
    "### ANN search"
   ]
  },
  {
   "cell_type": "code",
   "execution_count": null,
   "id": "455e1f41-e3a1-4366-bfac-44e6ac191aba",
   "metadata": {
    "height": 506
   },
   "outputs": [],
   "source": [
    "from ranx import Run\n",
    "\n",
    "run_dict = defaultdict(dict)\n",
    "for id, row in queries_df.iterrows():\n",
    "    query_id = f\"query_{id}\"\n",
    "    \n",
    "    results = client.search(\n",
    "        collection_name=\"wands-products\",\n",
    "        query_vector=models.NamedVector(\n",
    "            name=\"product_name\", \n",
    "            vector=row[\"query_embedding\"]\n",
    "        ),\n",
    "        with_vectors=False,\n",
    "        with_payload=False,\n",
    "        limit=100,\n",
    "        search_params=models.SearchParams(\n",
    "            exact=False,  # disable exact search\n",
    "        ),\n",
    "    )\n",
    "    \n",
    "    for point in results:\n",
    "        document_id = f\"doc_{point.id}\"\n",
    "        run_dict[query_id][document_id] = point.score\n",
    "\n",
    "initial_run = Run(\n",
    "    run_dict, \n",
    "    name=\"initial\",\n",
    ")\n",
    "initial_run"
   ]
  },
  {
   "cell_type": "code",
   "execution_count": null,
   "id": "0bc73f36-ce2c-45d6-b2e6-834e7b7fe24d",
   "metadata": {
    "height": 132
   },
   "outputs": [],
   "source": [
    "from ranx import evaluate\n",
    "\n",
    "evaluate(\n",
    "    qrels=qrels, \n",
    "    run=initial_run, \n",
    "    metrics=[\"precision@25\"]\n",
    ")"
   ]
  },
  {
   "cell_type": "markdown",
   "id": "ca2fa08d-6e24-467c-b277-cae776cb9309",
   "metadata": {},
   "source": [
    "## Tweaking the HNSW parameters"
   ]
  },
  {
   "cell_type": "code",
   "execution_count": null,
   "id": "b6c9f6ec-7612-4fc0-9de5-fe9af772e8b4",
   "metadata": {
    "height": 132
   },
   "outputs": [],
   "source": [
    "client.update_collection(\n",
    "    collection_name=\"wands-products\",\n",
    "    hnsw_config=models.HnswConfigDiff(\n",
    "        m=64, \n",
    "        ef_construct=200,\n",
    "    )\n",
    ")"
   ]
  },
  {
   "cell_type": "code",
   "execution_count": null,
   "id": "87fbd3ce-49e3-455d-8a2d-a7a3bd4658cf",
   "metadata": {
    "height": 166
   },
   "outputs": [],
   "source": [
    "import time\n",
    "\n",
    "time.sleep(1.0)\n",
    "collection = client.get_collection(\"wands-products\")\n",
    "while collection.status != models.CollectionStatus.GREEN:\n",
    "    time.sleep(1.0)\n",
    "    collection = client.get_collection(\"wands-products\")\n",
    "    \n",
    "collection"
   ]
  },
  {
   "cell_type": "code",
   "execution_count": null,
   "id": "cbb4b03d-a3b8-4456-9615-3e4bf86ed19e",
   "metadata": {
    "height": 472
   },
   "outputs": [],
   "source": [
    "tweaked_run_dict = defaultdict(dict)\n",
    "for id, row in queries_df.iterrows():\n",
    "    query_id = f\"query_{id}\"\n",
    "    \n",
    "    results = client.search(\n",
    "        collection_name=\"wands-products\",\n",
    "        query_vector=models.NamedVector(\n",
    "            name=\"product_name\", \n",
    "            vector=row[\"query_embedding\"]\n",
    "        ),\n",
    "        with_vectors=False,\n",
    "        with_payload=False,\n",
    "        limit=100,\n",
    "        search_params=models.SearchParams(\n",
    "            exact=False,  # disable exact search\n",
    "        ),\n",
    "    )\n",
    "    \n",
    "    for point in results:\n",
    "        document_id = f\"doc_{point.id}\"\n",
    "        tweaked_run_dict[query_id][document_id] = point.score\n",
    "    \n",
    "tweaked_run = Run(\n",
    "    tweaked_run_dict, \n",
    "    name=\"tweaked\"\n",
    ")\n",
    "tweaked_run"
   ]
  },
  {
   "cell_type": "code",
   "execution_count": null,
   "id": "5e99b0fe-8723-4193-aec4-7af50f4d296d",
   "metadata": {
    "height": 98
   },
   "outputs": [],
   "source": [
    "evaluate(\n",
    "    qrels=qrels, \n",
    "    run=tweaked_run, \n",
    "    metrics=[\"precision@25\"]\n",
    ")"
   ]
  },
  {
   "cell_type": "code",
   "execution_count": null,
   "id": "594722c8-24b0-496b-9859-943071bc7b78",
   "metadata": {
    "height": 30
   },
   "outputs": [],
   "source": []
  },
  {
   "cell_type": "code",
   "execution_count": null,
   "id": "a1bc2743-8236-4080-8bb1-c371d544bd48",
   "metadata": {
    "height": 30
   },
   "outputs": [],
   "source": []
  }
 ],
 "metadata": {
  "kernelspec": {
   "display_name": "Python 3 (ipykernel)",
   "language": "python",
   "name": "python3"
  },
  "language_info": {
   "codemirror_mode": {
    "name": "ipython",
    "version": 3
   },
   "file_extension": ".py",
   "mimetype": "text/x-python",
   "name": "python",
   "nbconvert_exporter": "python",
   "pygments_lexer": "ipython3",
   "version": "3.11.9"
  }
 },
 "nbformat": 4,
 "nbformat_minor": 5
}
