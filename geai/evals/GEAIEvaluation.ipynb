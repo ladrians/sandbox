{
 "cells": [
  {
   "cell_type": "markdown",
   "id": "42356917-a5ce-446f-ab35-18e050cbbce9",
   "metadata": {},
   "source": [
    "# Inicialization"
   ]
  },
  {
   "cell_type": "code",
   "execution_count": 1,
   "id": "d280da6f-2b2e-44de-95a9-dc76f49dd77e",
   "metadata": {},
   "outputs": [],
   "source": [
    "global_data_set_id = \"\"\n",
    "global_data_set_row_id = \"\"\n",
    "global_data_set_row_expected_source_id = \"\"\n",
    "global_data_set_row_filter_variable_id = \"\"\n",
    "\n",
    "import requests\n",
    "import urllib3\n",
    "import json\n",
    "\n",
    "urllib3.disable_warnings(urllib3.exceptions.InsecureRequestWarning)\n",
    "\n",
    "headers = {\n",
    "    \"Content-Type\": \"application/json\"  # Ensure the correct content type\n",
    "}"
   ]
  },
  {
   "cell_type": "code",
   "execution_count": null,
   "id": "3821b808-9995-46bc-8bcc-1db79563fc15",
   "metadata": {},
   "outputs": [],
   "source": [
    "global_url = \"http://localhost:8080/GEAIEvaluationJavaMySQL\""
   ]
  },
  {
   "cell_type": "code",
   "execution_count": 2,
   "id": "eafac03c-3c67-4f9f-89a1-d262dc5b852b",
   "metadata": {},
   "outputs": [],
   "source": [
    "global_url = \"https://geaevaluation-desa.kube.genexusconsulting.com\""
   ]
  },
  {
   "cell_type": "markdown",
   "id": "cf9c6591-d3b7-48d1-bcd9-716ddb8215a5",
   "metadata": {},
   "source": [
    "# data set"
   ]
  },
  {
   "cell_type": "markdown",
   "id": "91bfe4da-64d8-417b-82e2-a75724b562ae",
   "metadata": {},
   "source": [
    "## List data set"
   ]
  },
  {
   "cell_type": "code",
   "execution_count": 7,
   "id": "a4092da1-6e25-4be5-924f-6f29e0f85c7a",
   "metadata": {
    "scrolled": true
   },
   "outputs": [
    {
     "name": "stdout",
     "output_type": "stream",
     "text": [
      "Service response:\n",
      "[{'dataSetActive': True, 'dataSetCreateDate': '2024-12-05', 'dataSetDescription': 'TEST_A', 'dataSetId': '088198e2-6710-4db6-bab7-1a69bde73aef', 'dataSetName': 'TESTA_A', 'dataSetType': 'T', 'dataSetUpdateDate': '2024-12-05', 'rows': [{'dataSetRowContextDocument': '', 'dataSetRowExpectedAnswer': 'ANSWER_A', 'dataSetRowId': '16f19667-4f3d-4fc6-b198-d2346dcb1f11', 'dataSetRowInput': 'INPUT_A', 'expectedSources': [{'dataSetExpectedSourceId': '8283150c-389f-435b-9926-19195806f816', 'dataSetExpectedSourceValue': 'VALUE_A'}], 'filterVariables': [{'dataSetMetadataType': 'T', 'dataSetRowFilterKey': 'Key_A', 'dataSetRowFilterOperator': 'OPERATOR_A', 'dataSetRowFilterValue': 'VALUE_A', 'dataSetRowFilterVarId': 'a5857f58-0610-4a59-a9f0-3b9af99e874a'}]}]}]\n"
     ]
    }
   ],
   "source": [
    "# Service URL\n",
    "url = f\"{global_url}/dataSetApi/dataSets\"\n",
    "\n",
    "payload = {}\n",
    "\n",
    "headers = {\n",
    "    \"Content-Type\": \"application/json\"  # Ensure the correct content type\n",
    "}\n",
    "\n",
    "try:\n",
    "    # Make the GET request\n",
    "    response = requests.get(url, json=payload, headers=headers, verify=False)\n",
    "    \n",
    "    # Check if the request was successful\n",
    "    if response.status_code == 200:\n",
    "        print(\"Service response:\")\n",
    "        print(response.json())  # If the response is in JSON format\n",
    "    else:\n",
    "        print(f\"Request error: {response.status_code}\")\n",
    "        print(response.text)  # Displays the response content in case of error\n",
    "\n",
    "except requests.exceptions.RequestException as e:\n",
    "    print(f\"Error connecting to the service: {e}\")"
   ]
  },
  {
   "cell_type": "markdown",
   "id": "375f9bc3-3dfd-4f96-832c-8d4b03c65fe3",
   "metadata": {},
   "source": [
    "## Insert data set"
   ]
  },
  {
   "cell_type": "code",
   "execution_count": 4,
   "id": "0ea58b71-775c-4701-84d1-f60d71ab9d60",
   "metadata": {
    "scrolled": true
   },
   "outputs": [
    {
     "name": "stdout",
     "output_type": "stream",
     "text": [
      "Request successful. Server response:\n",
      "{\n",
      "    \"dataSetActive\": true,\n",
      "    \"dataSetCreateDate\": \"2024-12-05\",\n",
      "    \"dataSetDescription\": \"TEST_A\",\n",
      "    \"dataSetId\": \"088198e2-6710-4db6-bab7-1a69bde73aef\",\n",
      "    \"dataSetName\": \"TESTA_A\",\n",
      "    \"dataSetType\": \"T\",\n",
      "    \"dataSetUpdateDate\": \"2024-12-05\",\n",
      "    \"rows\": [\n",
      "        {\n",
      "            \"dataSetRowExpectedAnswer\": \"ANSWER_A\",\n",
      "            \"dataSetRowId\": \"16f19667-4f3d-4fc6-b198-d2346dcb1f11\",\n",
      "            \"dataSetRowInput\": \"INPUT_A\",\n",
      "            \"expectedSources\": [\n",
      "                {\n",
      "                    \"dataSetExpectedSourceId\": \"8283150c-389f-435b-9926-19195806f816\",\n",
      "                    \"dataSetExpectedSourceValue\": \"VALUE_A\"\n",
      "                }\n",
      "            ],\n",
      "            \"filterVariables\": [\n",
      "                {\n",
      "                    \"dataSetMetadataType\": \"T\",\n",
      "                    \"dataSetRowFilterKey\": \"Key_A\",\n",
      "                    \"dataSetRowFilterOperator\": \"OPERATOR_A\",\n",
      "                    \"dataSetRowFilterValue\": \"VALUE_A\",\n",
      "                    \"dataSetRowFilterVarId\": \"a5857f58-0610-4a59-a9f0-3b9af99e874a\"\n",
      "                }\n",
      "            ]\n",
      "        }\n",
      "    ]\n",
      "}\n"
     ]
    }
   ],
   "source": [
    "# Service URL\n",
    "url = f\"{global_url}/dataSetApi/dataSet\"\n",
    "\n",
    "# JSON data to be sent in the request body\n",
    "payload = {\n",
    "    \"dataSetName\": \"TESTA_A\",\n",
    "    \"dataSetDescription\": \"TEST_A\",\n",
    "    \"dataSetType\": \"T\",\n",
    "    \"dataSetActive\": True,\n",
    "    \"rows\": [\n",
    "        {\n",
    "            \"dataSetRowExpectedAnswer\": \"ANSWER_A\",\n",
    "            \"dataSetRowContextDocument\": \"\",\n",
    "            \"dataSetRowInput\": \"INPUT_A\",\n",
    "            \"expectedSources\": [\n",
    "                {\n",
    "                    \"dataSetExpectedSourceValue\": \"VALUE_A\"\n",
    "                }\n",
    "            ],\n",
    "            \"filterVariables\": [\n",
    "                {\n",
    "                    \"dataSetMetadataType\": \"T\",\n",
    "                    \"dataSetRowFilterKey\": \"Key_A\",\n",
    "                    \"dataSetRowFilterValue\": \"VALUE_A\",\n",
    "                    \"dataSetRowFilterOperator\": \"OPERATOR_A\"\n",
    "                }\n",
    "            ]\n",
    "        }\n",
    "    ]\n",
    "}\n",
    "\n",
    "# Make the POST request\n",
    "try:\n",
    "    response = requests.post(url, json=payload, headers=headers, verify=False)\n",
    "    \n",
    "    # Check the response status code\n",
    "    if response.status_code == 200:\n",
    "        print(\"Request successful. Server response:\")\n",
    "        print(json.dumps(response.json(), indent=4))  # Print the response in JSON format\n",
    "\n",
    "        # Load the JSON response\n",
    "        response_data = response.json()\n",
    "        \n",
    "        # Extract the dataSetId\n",
    "        data_set_id = response_data.get(\"dataSetId\")\n",
    "        \n",
    "        # Save it in a global variable or file\n",
    "        # Global variable\n",
    "        global_data_set_id = data_set_id  # This will be available in the Notebook\n",
    "    \n",
    "    else:\n",
    "        print(f\"Request error: {response.status_code}\")\n",
    "        print(\"Server response:\")\n",
    "        print(response.text)\n",
    "\n",
    "except requests.exceptions.RequestException as e:\n",
    "    print(f\"Error connecting to the service: {e}\")"
   ]
  },
  {
   "cell_type": "markdown",
   "id": "bc704b0d-caca-4a58-93f6-acdb8f7f0abf",
   "metadata": {},
   "source": [
    "## Get data set"
   ]
  },
  {
   "cell_type": "code",
   "execution_count": null,
   "id": "c687cf21-bbdf-47c7-aad8-4ad39b832c5b",
   "metadata": {},
   "outputs": [],
   "source": [
    "# Service URL\n",
    "url = f\"{global_url}/dataSetApi/dataSet/{global_data_set_id}\"\n",
    "\n",
    "# Data to be sent in the GET request (adjust according to your API requirements)\n",
    "payload = {}\n",
    "\n",
    "try:\n",
    "    # Make the GET request\n",
    "    response = requests.get(url, json=payload, headers=headers, verify=False)\n",
    "    \n",
    "    # Check if the request was successful\n",
    "    if response.status_code == 200:\n",
    "        print(\"Service response:\")\n",
    "        print(response.json())  # If the response is in JSON format\n",
    "    else:\n",
    "        print(f\"Request error: {response.status_code}\")\n",
    "        print(response.text)  # Displays the response content in case of an error\n",
    "\n",
    "except requests.exceptions.RequestException as e:\n",
    "    print(f\"Error connecting to the service: {e}\")"
   ]
  },
  {
   "cell_type": "markdown",
   "id": "87887154-fb44-46f0-8ca2-832d93d276e6",
   "metadata": {},
   "source": [
    "## Update data set"
   ]
  },
  {
   "cell_type": "code",
   "execution_count": null,
   "id": "9faf554b-ba11-4036-ae5c-a6302b5d447a",
   "metadata": {},
   "outputs": [],
   "source": [
    "# Service URL\n",
    "url = f\"{global_url}/dataSetApi/dataSet/{global_data_set_id}\"\n",
    "\n",
    "# JSON data to be sent in the request body\n",
    "payload = {\n",
    "    \"dataSetName\": \"TEST_B\",\n",
    "    \"dataSetDescription\": \"TEST_B\",\n",
    "    \"dataSetType\": \"T\",\n",
    "    \"dataSetActive\": True\n",
    "}\n",
    "\n",
    "# Make the PUT request\n",
    "try:\n",
    "    response = requests.put(url, json=payload, headers=headers, verify=False)\n",
    "    \n",
    "    # Check the response status code\n",
    "    if response.status_code == 200:\n",
    "        print(\"Request successful. Server response:\")\n",
    "        print(json.dumps(response.json(), indent=4))  # Print the response in JSON format\n",
    "    else:\n",
    "        print(f\"Request error: {response.status_code}\")\n",
    "        print(\"Server response:\")\n",
    "        print(response.text)\n",
    "\n",
    "except requests.exceptions.RequestException as e:\n",
    "    print(f\"Error connecting to the service: {e}\")"
   ]
  },
  {
   "cell_type": "markdown",
   "id": "b8ec8653-4c03-487f-92c4-70e5d7541cc2",
   "metadata": {},
   "source": [
    "## Delete data set"
   ]
  },
  {
   "cell_type": "code",
   "execution_count": null,
   "id": "7527e1ad-ffa6-41cb-8a84-4bca3c229e87",
   "metadata": {},
   "outputs": [],
   "source": [
    "# Service URL\n",
    "url = f\"{global_url}/dataSetApi/dataSet/{global_data_set_id}\"\n",
    "\n",
    "try:\n",
    "    # Make the DELETE request\n",
    "    response = requests.delete(url, headers=headers, verify=False)\n",
    "    \n",
    "    # Check if the request was successful\n",
    "    if response.status_code == 200:\n",
    "        print(\"Service response:\")\n",
    "        print(response.json())  # If the response is in JSON format\n",
    "    else:\n",
    "        print(f\"Request error: {response.status_code}\")\n",
    "        print(response.text)  # Displays the response content in case of error\n",
    "\n",
    "except requests.exceptions.RequestException as e:\n",
    "    print(f\"Error connecting to the service: {e}\")"
   ]
  },
  {
   "cell_type": "markdown",
   "id": "53b0a274-21d7-441f-a4ee-5f65b4c6a241",
   "metadata": {},
   "source": [
    "# data set row"
   ]
  },
  {
   "cell_type": "markdown",
   "id": "e500e3a0-af91-454d-bd16-0344057e70b3",
   "metadata": {},
   "source": [
    "## Insert data set"
   ]
  },
  {
   "cell_type": "code",
   "execution_count": null,
   "id": "ae832b74-1d8b-49bc-9a0c-92453bc24b01",
   "metadata": {
    "scrolled": true
   },
   "outputs": [],
   "source": [
    "# Service URL\n",
    "url = f\"{global_url}/dataSetApi/dataSet\"\n",
    "\n",
    "# JSON data to be sent in the request body\n",
    "payload = {\n",
    "    \"dataSetName\": \"TESTA_A\",\n",
    "    \"dataSetDescription\": \"TEST_A\",\n",
    "    \"dataSetType\": \"T\",\n",
    "    \"dataSetActive\": True,\n",
    "    \"rows\": []\n",
    "}\n",
    "\n",
    "# Make the POST request\n",
    "try:\n",
    "    response = requests.post(url, json=payload, headers=headers, verify=False)\n",
    "    \n",
    "    # Check the response status code\n",
    "    if response.status_code == 200:\n",
    "        print(\"Request successful. Server response:\")\n",
    "        print(json.dumps(response.json(), indent=4))  # Print the response in JSON format\n",
    "\n",
    "        # Load the JSON response\n",
    "        response_data = response.json()\n",
    "        \n",
    "        # Extract the dataSetId\n",
    "        data_set_id = response_data.get(\"dataSetId\")\n",
    "        \n",
    "        # Store it in a global variable or file\n",
    "        global_data_set_id = data_set_id  # This will be available in the Notebook\n",
    "\n",
    "    else:\n",
    "        print(f\"Request error: {response.status_code}\")\n",
    "        print(\"Server response:\")\n",
    "        print(response.text)\n",
    "\n",
    "except requests.exceptions.RequestException as e:\n",
    "    print(f\"Error connecting to the service: {e}\")\n"
   ]
  },
  {
   "cell_type": "markdown",
   "id": "55210f15-77db-460d-8d82-227ada1cd8ac",
   "metadata": {},
   "source": [
    "## List data set row"
   ]
  },
  {
   "cell_type": "code",
   "execution_count": null,
   "id": "a4a8602c-593e-4b0f-8a12-0983cf591453",
   "metadata": {},
   "outputs": [],
   "source": [
    "# Service URL\n",
    "url = f\"{global_url}/dataSetApi/dataSet/{global_data_set_id}/dataSetRows\"\n",
    "\n",
    "try:\n",
    "    # Make the GET request\n",
    "    response = requests.get(url,  headers=headers, verify=False)\n",
    "    \n",
    "    # Check if the request was successful\n",
    "    if response.status_code == 200:\n",
    "        print(\"Service response:\")\n",
    "        print(response.json())  # If the response is in JSON format\n",
    "    else:\n",
    "        print(f\"Request error: {response.status_code}\")\n",
    "        print(response.text)  # Show the response content in case of an error\n",
    "\n",
    "except requests.exceptions.RequestException as e:\n",
    "    print(f\"Error connecting to the service: {e}\")"
   ]
  },
  {
   "cell_type": "markdown",
   "id": "0beee5d8-d352-4599-9203-a45bc6e23dc5",
   "metadata": {},
   "source": [
    "## Insert data set row"
   ]
  },
  {
   "cell_type": "code",
   "execution_count": null,
   "id": "f6b11bc6-eb46-4f33-b186-d81a1bd21566",
   "metadata": {},
   "outputs": [],
   "source": [
    "# Service URL\n",
    "url = f\"{global_url}/dataSetApi/dataSet/{global_data_set_id}/dataSetRow\"\n",
    "\n",
    "# JSON data to be sent in the request body\n",
    "payload = {\n",
    "    \"dataSetRowExpectedAnswer\": \"ANSWER_B\",\n",
    "    \"dataSetRowContextDocument\": \"\",\n",
    "    \"dataSetRowInput\": \"INPUT_B\",\n",
    "    \"expectedSources\": [\n",
    "        {\n",
    "            \"dataSetExpectedSourceValue\": \"VALUE_B\"\n",
    "        }\n",
    "    ],\n",
    "    \"filterVariables\": [\n",
    "        {\n",
    "            \"dataSetMetadataType\": \"T\",\n",
    "            \"dataSetRowFilterKey\": \"KEY_B\",\n",
    "            \"dataSetRowFilterValue\": \"VALUE_B\",\n",
    "            \"dataSetRowFilterOperator\": \"OPERATOR_B\"\n",
    "        }\n",
    "    ]\n",
    "}\n",
    "\n",
    "# Make the POST request\n",
    "try:\n",
    "    response = requests.post(url, json=payload, headers=headers, verify=False)\n",
    "    \n",
    "    # Check the response status code\n",
    "    if response.status_code == 200:\n",
    "        print(\"Request successful. Server response:\")\n",
    "        print(json.dumps(response.json(), indent=4))  # Print the response in JSON format\n",
    "\n",
    "        # Load the JSON response\n",
    "        response_data = response.json()\n",
    "        \n",
    "        # Extract the dataSetRowId\n",
    "        data_set_row_id = response_data.get(\"dataSetRowId\")\n",
    "        \n",
    "        # Store it in a global variable or a file\n",
    "        # Global variable\n",
    "        global_data_set_row_id = data_set_row_id  # This will be available in the Notebook\n",
    "    \n",
    "    else:\n",
    "        print(f\"Request error: {response.status_code}\")\n",
    "        print(\"Server response:\")\n",
    "        print(response.text)\n",
    "\n",
    "except requests.exceptions.RequestException as e:\n",
    "    print(f\"Error connecting to the service: {e}\")\n"
   ]
  },
  {
   "cell_type": "markdown",
   "id": "a596cd47-4a7e-44d1-886f-7f6c6e9cdce2",
   "metadata": {},
   "source": [
    "## Get data set row"
   ]
  },
  {
   "cell_type": "code",
   "execution_count": null,
   "id": "39b78b5e-9459-4aee-9f33-51cd76cf8a4a",
   "metadata": {},
   "outputs": [],
   "source": [
    "# Service URL\n",
    "url = f\"{global_url}/dataSetApi/dataSet/{global_data_set_id}/dataSetRow/{data_set_row_id}\"\n",
    "\n",
    "try:\n",
    "    # Make the GET request\n",
    "    response = requests.get(url, headers=headers, verify=False)\n",
    "    \n",
    "    # Check if the request was successful\n",
    "    if response.status_code == 200:\n",
    "        print(\"Service response:\")\n",
    "        print(response.json())  # If the response is in JSON format\n",
    "    else:\n",
    "        print(f\"Request error: {response.status_code}\")\n",
    "        print(response.text)  # Display the response content in case of an error\n",
    "\n",
    "except requests.exceptions.RequestException as e:\n",
    "    print(f\"Error connecting to the service: {e}\")\n"
   ]
  },
  {
   "cell_type": "markdown",
   "id": "cb8f6b51-f128-4c81-8900-05bf3c6a8c11",
   "metadata": {},
   "source": [
    "## Update data set row"
   ]
  },
  {
   "cell_type": "code",
   "execution_count": null,
   "id": "fb82b4a8-39e6-4c57-9f8a-6e49ef291f3f",
   "metadata": {
    "scrolled": true
   },
   "outputs": [],
   "source": [
    "# Service URL\n",
    "url = f\"{global_url}/dataSetApi/dataSet/{global_data_set_id}/dataSetRow/{data_set_row_id}\"\n",
    "\n",
    "# JSON data to be sent in the request body\n",
    "payload = {\n",
    "    \"dataSetRowInput\": \"INPUT_C\",\n",
    "    \"dataSetRowExpectedAnswer\": \"ANSWER_C\",\n",
    "    \"dataSetRowContextDocument\": \"\"\n",
    "}\n",
    "\n",
    "# Make the PUT request\n",
    "try:\n",
    "    response = requests.put(url, json=payload, headers=headers, verify=False)\n",
    "    \n",
    "    # Check the response code\n",
    "    if response.status_code == 200:\n",
    "        print(\"Request successful. Server response:\")\n",
    "        print(json.dumps(response.json(), indent=4))  # Print the response in JSON format\n",
    "    else:\n",
    "        print(f\"Request error: {response.status_code}\")\n",
    "        print(\"Server response:\")\n",
    "        print(response.text)\n",
    "\n",
    "except requests.exceptions.RequestException as e:\n",
    "    print(f\"Error connecting to the service: {e}\")\n"
   ]
  },
  {
   "cell_type": "markdown",
   "id": "4cd8d074-038c-4fea-8aaf-6a84f5b769c9",
   "metadata": {},
   "source": [
    "## Delete data set row"
   ]
  },
  {
   "cell_type": "code",
   "execution_count": null,
   "id": "2003fc7a-b135-42b1-85f6-aa9c91aa863d",
   "metadata": {
    "scrolled": true
   },
   "outputs": [],
   "source": [
    "# Service URL\n",
    "url = f\"{global_url}/dataSetApi/dataSet/{global_data_set_id}/dataSetRow/{data_set_row_id}\"\n",
    "\n",
    "try:\n",
    "    # Make the DELETE request\n",
    "    response = requests.delete(url, headers=headers, verify=False)\n",
    "    \n",
    "    # Check if the request was successful\n",
    "    if response.status_code == 200:\n",
    "        print(\"Service response:\")\n",
    "        print(response.json())  # If the response is in JSON format\n",
    "    else:\n",
    "        print(f\"Request error: {response.status_code}\")\n",
    "        print(response.text)  # Show the response content in case of an error\n",
    "\n",
    "except requests.exceptions.RequestException as e:\n",
    "    print(f\"Error connecting to the service: {e}\")\n"
   ]
  },
  {
   "cell_type": "markdown",
   "id": "4cd76818-5351-4c83-87d4-4d5e475fc544",
   "metadata": {},
   "source": [
    "# data set row expected source"
   ]
  },
  {
   "cell_type": "markdown",
   "id": "014a2991-d826-4a32-8711-adac60865693",
   "metadata": {},
   "source": [
    "## Insert data set row"
   ]
  },
  {
   "cell_type": "code",
   "execution_count": null,
   "id": "ff5458e2-4d0d-4111-b500-73746e8fc2e9",
   "metadata": {},
   "outputs": [],
   "source": [
    "# Service URL\n",
    "url = f\"{global_url}/dataSetApi/dataSet/{global_data_set_id}/dataSetRow\"\n",
    "\n",
    "# JSON data to send in the request body\n",
    "payload = {\n",
    "    \"dataSetRowExpectedAnswer\": \"ANSWER_B\",\n",
    "    \"dataSetRowContextDocument\": \"\",\n",
    "    \"dataSetRowInput\": \"INPUT_B\",\n",
    "    \"expectedSources\": [],\n",
    "    \"filterVariables\": []\n",
    "}\n",
    "\n",
    "# Make the POST request\n",
    "try:\n",
    "    response = requests.post(url, json=payload, headers=headers, verify=False)\n",
    "    \n",
    "    # Check the response code\n",
    "    if response.status_code == 200:\n",
    "        print(\"Request successful. Server response:\")\n",
    "        print(json.dumps(response.json(), indent=4))  # Print the response in JSON format\n",
    "\n",
    "        # Load the JSON response\n",
    "        response_data = response.json()\n",
    "        \n",
    "        # Extract the dataSetRowId\n",
    "        data_set_row_id = response_data.get(\"dataSetRowId\")\n",
    "        \n",
    "        # Save it to a global variable or file\n",
    "        # Global variable\n",
    "        global_data_set_row_id = data_set_row_id  # This will be available in the notebook\n",
    "    \n",
    "    else:\n",
    "        print(f\"Request error: {response.status_code}\")\n",
    "        print(\"Server response:\")\n",
    "        print(response.text)\n",
    "\n",
    "except requests.exceptions.RequestException as e:\n",
    "    print(f\"Error connecting to the service: {e}\")\n"
   ]
  },
  {
   "cell_type": "markdown",
   "id": "98da2ce3-7809-4403-9e5e-4ab9ac9bc9dc",
   "metadata": {},
   "source": [
    "## List data set row expected source"
   ]
  },
  {
   "cell_type": "code",
   "execution_count": null,
   "id": "9d646095-2793-472a-adb8-ee45bc9a5315",
   "metadata": {},
   "outputs": [],
   "source": [
    "# Service URL\n",
    "url = f\"{global_url}/dataSetApi/dataSet/{global_data_set_id}/dataSetRow/{data_set_row_id}/dataSetRowExpectedSources\"\n",
    "\n",
    "try:\n",
    "    # Make the GET request\n",
    "    response = requests.get(url, headers=headers, verify=False)\n",
    "    \n",
    "    # Check if the request was successful\n",
    "    if response.status_code == 200:\n",
    "        print(\"Service response:\")\n",
    "        print(response.json())  # If the response is in JSON format\n",
    "    else:\n",
    "        print(f\"Request error: {response.status_code}\")\n",
    "        print(response.text)  # Display the content of the response in case of error\n",
    "\n",
    "except requests.exceptions.RequestException as e:\n",
    "    print(f\"Error connecting to the service: {e}\")\n"
   ]
  },
  {
   "cell_type": "markdown",
   "id": "e6b0681b-ddd7-4891-8701-c68e753b745e",
   "metadata": {},
   "source": [
    "## Insert data set row expected source"
   ]
  },
  {
   "cell_type": "code",
   "execution_count": null,
   "id": "0e25f821-5cad-480a-ac32-eb4c22dcd522",
   "metadata": {},
   "outputs": [],
   "source": [
    "# Service URL\n",
    "url = f\"{global_url}/dataSetApi/dataSet/{global_data_set_id}/dataSetRow/{data_set_row_id}/dataSetRowExpectedSource\"\n",
    "\n",
    "# JSON data to send in the POST request\n",
    "payload = {\n",
    "    \"dataSetExpectedSourceValue\": \"VALUE_C\"\n",
    "}\n",
    "\n",
    "# Make the POST request\n",
    "try:\n",
    "    response = requests.post(url, json=payload, headers=headers, verify=False)\n",
    "    \n",
    "    # Check the response code\n",
    "    if response.status_code == 200:\n",
    "        print(\"Request successful. Server response:\")\n",
    "        print(json.dumps(response.json(), indent=4))  # Print the response in JSON format\n",
    "\n",
    "        # Load the JSON response\n",
    "        response_data = response.json()\n",
    "        \n",
    "        # Extract the dataSetExpectedSourceId\n",
    "        data_set_row_expected_source_id = response_data.get(\"dataSetExpectedSourceId\")\n",
    "        \n",
    "        # Store it in a global variable or file\n",
    "        # Global variable\n",
    "        global_data_set_row_expected_source_id = data_set_row_expected_source_id  # This will be available in the Notebook\n",
    "    \n",
    "    else:\n",
    "        print(f\"Error in the request: {response.status_code}\")\n",
    "        print(\"Server response:\")\n",
    "        print(response.text)\n",
    "\n",
    "except requests.exceptions.RequestException as e:\n",
    "    print(f\"Error connecting to the service: {e}\")\n"
   ]
  },
  {
   "cell_type": "markdown",
   "id": "4ac9080c-6178-49e9-b5de-a1e9992af476",
   "metadata": {},
   "source": [
    "## Get data set row expected source"
   ]
  },
  {
   "cell_type": "code",
   "execution_count": null,
   "id": "92e01993-cacd-4b0d-8cc9-04e41123d0a0",
   "metadata": {},
   "outputs": [],
   "source": [
    "# Service URL\n",
    "url = f\"{global_url}/dataSetApi/dataSet/{global_data_set_id}/dataSetRow/{data_set_row_id}/dataSetRowExpectedSource/{global_data_set_row_expected_source_id}\"\n",
    "\n",
    "try:\n",
    "    # Make the GET request\n",
    "    response = requests.get(url, headers=headers, verify=False)\n",
    "    \n",
    "    # Check if the request was successful\n",
    "    if response.status_code == 200:\n",
    "        print(\"Service response:\")\n",
    "        print(response.json())  # If the response is in JSON format\n",
    "    else:\n",
    "        print(f\"Error in the request: {response.status_code}\")\n",
    "        print(response.text)  # Print the response content in case of an error\n",
    "\n",
    "except requests.exceptions.RequestException as e:\n",
    "    print(f\"Error connecting to the service: {e}\")\n"
   ]
  },
  {
   "cell_type": "markdown",
   "id": "7c8fb67e-41ec-48b0-8ead-07a6a78347b6",
   "metadata": {},
   "source": [
    "## Update data set row expected source"
   ]
  },
  {
   "cell_type": "code",
   "execution_count": null,
   "id": "5acf9f36-c9aa-443b-9794-b1c14b4c76a9",
   "metadata": {},
   "outputs": [],
   "source": [
    "# Service URL\n",
    "url = f\"{global_url}/dataSetApi/dataSet/{global_data_set_id}/dataSetRow/{data_set_row_id}/dataSetRowExpectedSource/{global_data_set_row_expected_source_id}\"\n",
    "\n",
    "# JSON data to send in the body of the request\n",
    "payload = {\n",
    "    \"dataSetExpectedSourceValue\": \"VALUE_D\"\n",
    "}\n",
    "\n",
    "# Make the PUT request\n",
    "try:\n",
    "    response = requests.put(url, json=payload, headers=headers, verify=False)\n",
    "    \n",
    "    # Check the response code\n",
    "    if response.status_code == 200:\n",
    "        print(\"Request successful. Server response:\")\n",
    "        print(json.dumps(response.json(), indent=4))  # Print the response in JSON format\n",
    "    else:\n",
    "        print(f\"Error in the request: {response.status_code}\")\n",
    "        print(\"Server response:\")\n",
    "        print(response.text)\n",
    "\n",
    "except requests.exceptions.RequestException as e:\n",
    "    print(f\"Error connecting to the service: {e}\")\n"
   ]
  },
  {
   "cell_type": "markdown",
   "id": "96eb1ffe-11d3-431d-b024-0bec6897b559",
   "metadata": {},
   "source": [
    "## Delete data set row expected source"
   ]
  },
  {
   "cell_type": "code",
   "execution_count": null,
   "id": "76179b25-b6ba-4156-8bf6-47747593e7ac",
   "metadata": {},
   "outputs": [],
   "source": [
    "# Service URL\n",
    "url = f\"{global_url}/dataSetApi/dataSet/{global_data_set_id}/dataSetRow/{data_set_row_id}/dataSetRowExpectedSource/{global_data_set_row_expected_source_id}\"\n",
    "\n",
    "try:\n",
    "    # Perform the DELETE request\n",
    "    response = requests.delete(url, headers=headers, verify=False)\n",
    "    \n",
    "    # Check if the request was successful\n",
    "    if response.status_code == 200:\n",
    "        print(\"Service response:\")\n",
    "        print(response.json())  # If the response is in JSON format\n",
    "    else:\n",
    "        print(f\"Error in the request: {response.status_code}\")\n",
    "        print(response.text)  # Display the response content in case of a\n"
   ]
  },
  {
   "cell_type": "markdown",
   "id": "6d7bd647-56b4-4896-adde-8ee7662ce67a",
   "metadata": {},
   "source": [
    "#  data set row filter variable"
   ]
  },
  {
   "cell_type": "markdown",
   "id": "254a0f4c-5004-4fa8-acf8-67ec17745d91",
   "metadata": {},
   "source": [
    "## List data set row filter variable"
   ]
  },
  {
   "cell_type": "code",
   "execution_count": null,
   "id": "f51edefa-c973-4d84-bee0-c809c6f7b18a",
   "metadata": {},
   "outputs": [],
   "source": [
    "# Service URL\n",
    "url = f\"{global_url}/dataSetApi/dataSet/{global_data_set_id}/dataSetRow/{data_set_row_id}/dataSetRowFilterVariables\"\n",
    "\n",
    "try:\n",
    "    # Perform the GET request\n",
    "    response = requests.get(url, headers=headers, verify=False)\n",
    "    \n",
    "    # Check if the request was successful\n",
    "    if response.status_code == 200:\n",
    "        print(\"Service response:\")\n",
    "        print(response.json())  # If the response is in JSON format\n",
    "    else:\n",
    "        print(f\"Error in the request: {response.status_code}\")\n",
    "        print(response.text)  # Display the response content in case of an error\n",
    "\n",
    "except requests.exceptions.RequestException as e:\n",
    "    print(f\"Error connecting to the service: {e}\")\n"
   ]
  },
  {
   "cell_type": "markdown",
   "id": "b5ea9aef-daf6-4c05-b5cd-3a9ac1a156c1",
   "metadata": {},
   "source": [
    "## Insert data set row filter variable"
   ]
  },
  {
   "cell_type": "code",
   "execution_count": null,
   "id": "f98df149-0981-43e7-a33e-3e0a773b2519",
   "metadata": {},
   "outputs": [],
   "source": [
    "# Service URL\n",
    "url = f\"{global_url}/dataSetApi/dataSet/{global_data_set_id}/dataSetRow/{data_set_row_id}/dataSetRowFilterVariable\"\n",
    "\n",
    "# JSON data to be sent in the request body\n",
    "payload = {\n",
    "    \"dataSetMetadataType\": \"T\",\n",
    "    \"dataSetRowFilterKey\": \"KEY_C\",\n",
    "    \"dataSetRowFilterValue\": \"VALUE_C\",\n",
    "    \"dataSetRowFilterOperator\": \"OPERATOR_C\"\n",
    "}\n",
    "\n",
    "# Make the POST request\n",
    "try:\n",
    "    response = requests.post(url, json=payload, headers=headers, verify=False)\n",
    "    \n",
    "    # Check the response code\n",
    "    if response.status_code == 200:\n",
    "        print(\"Request successful. Server response:\")\n",
    "        print(json.dumps(response.json(), indent=4))  # Print the response in JSON format\n",
    "\n",
    "        # Load the JSON response\n",
    "        response_data = response.json()\n",
    "        \n",
    "        # Extract the dataSetRowFilterVarId\n",
    "        data_set_row_filter_variable_id = response_data.get(\"dataSetRowFilterVarId\")\n",
    "        \n",
    "        # Save it in a global variable or file\n",
    "        # Global variable\n",
    "        global_data_set_row_filter_variable_id = data_set_row_filter_variable_id  # This will be available in the Notebook\n",
    "    \n",
    "    else:\n",
    "        print(f\"Error in the request: {response.status_code}\")\n",
    "        print(\"Server response:\")\n",
    "        print(response.text)\n",
    "\n",
    "except requests.exceptions.RequestException as e:\n",
    "    print(f\"Error connecting to the service: {e}\")\n"
   ]
  },
  {
   "cell_type": "markdown",
   "id": "6c268678-2130-4bbf-bf6f-6d0a474a2580",
   "metadata": {},
   "source": [
    "## Get data set row filter variable"
   ]
  },
  {
   "cell_type": "code",
   "execution_count": null,
   "id": "88cc0e93-4ae3-434c-a170-6ebabf067076",
   "metadata": {},
   "outputs": [],
   "source": [
    "# Service URL\n",
    "url = f\"{global_url}/dataSetApi/dataSet/{global_data_set_id}/dataSetRow/{data_set_row_id}/dataSetRowFilterVariable/{global_data_set_row_filter_variable_id}\"\n",
    "\n",
    "try:\n",
    "    # Make the GET request\n",
    "    response = requests.get(url, headers=headers, verify=False)\n",
    "    \n",
    "    # Check if the request was successful\n",
    "    if response.status_code == 200:\n",
    "        print(\"Service response:\")\n",
    "        print(response.json())  # If the response is in JSON format\n",
    "    else:\n",
    "        print(f\"Error in the request: {response.status_code}\")\n",
    "        print(response.text)  # Display the content of the response in case of an error\n",
    "\n",
    "except requests.exceptions.RequestException as e:\n",
    "    print(f\"Error connecting to the service: {e}\")\n"
   ]
  },
  {
   "cell_type": "markdown",
   "id": "8788abb5-3089-48cb-ba37-9ebadfa5c0d1",
   "metadata": {},
   "source": [
    "## Update data set row filter variable"
   ]
  },
  {
   "cell_type": "code",
   "execution_count": null,
   "id": "a2f59533-51cc-499b-b275-a8a52ecc87dd",
   "metadata": {},
   "outputs": [],
   "source": [
    "# Service URL\n",
    "url = f\"{global_url}/dataSetApi/dataSet/{global_data_set_id}/dataSetRow/{data_set_row_id}/dataSetRowFilterVariable/{global_data_set_row_filter_variable_id}\"\n",
    "\n",
    "# JSON data to be sent in the body of the PUT request\n",
    "payload = {\n",
    "    \"dataSetMetadataType\": \"T\",\n",
    "    \"dataSetRowFilterKey\": \"KEY_D\",\n",
    "    \"dataSetRowFilterValue\": \"VALUE_D\",\n",
    "    \"dataSetRowFilterOperator\": \"OPERATOR_D\"\n",
    "}\n",
    "\n",
    "# Perform the PUT request\n",
    "try:\n",
    "    response = requests.put(url, json=payload, headers=headers, verify=False)\n",
    "    \n",
    "    # Check the response code\n",
    "    if response.status_code == 200:\n",
    "        print(\"Request successful. Server response:\")\n",
    "        print(json.dumps(response.json(), indent=4))  # Print the response in JSON format\n",
    "    else:\n",
    "        print(f\"Error in the request: {response.status_code}\")\n",
    "        print(\"Server response:\")\n",
    "        print(response.text)\n",
    "\n",
    "except requests.exceptions.RequestException as e:\n",
    "    print(f\"Error connecting to the service: {e}\")\n"
   ]
  },
  {
   "cell_type": "markdown",
   "id": "3cb8ee01-e920-4067-a446-c7ea61b08904",
   "metadata": {},
   "source": [
    "## Delete data set row filter variable"
   ]
  },
  {
   "cell_type": "code",
   "execution_count": null,
   "id": "34149cd9-ddbf-4548-b763-38e9c6ede6bf",
   "metadata": {},
   "outputs": [],
   "source": [
    "# Service URL\n",
    "url = f\"{global_url}/dataSetApi/dataSet/{global_data_set_id}/dataSetRow/{data_set_row_id}/dataSetRowFilterVariable/{global_data_set_row_filter_variable_id}\"\n",
    "\n",
    "try:\n",
    "    # Perform the DELETE request\n",
    "    response = requests.delete(url, headers=headers, verify=False)\n",
    "    \n",
    "    # Check if the request was successful\n",
    "    if response.status_code == 200:\n",
    "        print(\"Service response:\")\n",
    "        print(response.json())  # If the response is in JSON format\n",
    "    else:\n",
    "        print(f\"Error in the request: {response.status_code}\")\n",
    "        print(response.text)  # Display the response content in case of an error\n",
    "\n",
    "except requests.exceptions.RequestException as e:\n",
    "    print(f\"Error connecting to the service: {e}\")"
   ]
  }
 ],
 "metadata": {
  "kernelspec": {
   "display_name": "Python 3 (ipykernel)",
   "language": "python",
   "name": "python3"
  },
  "language_info": {
   "codemirror_mode": {
    "name": "ipython",
    "version": 3
   },
   "file_extension": ".py",
   "mimetype": "text/x-python",
   "name": "python",
   "nbconvert_exporter": "python",
   "pygments_lexer": "ipython3",
   "version": "3.12.7"
  }
 },
 "nbformat": 4,
 "nbformat_minor": 5
}
