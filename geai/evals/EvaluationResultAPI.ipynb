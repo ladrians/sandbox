{
  "cells": [
    {
      "cell_type": "markdown",
      "source": [
        "This guide explains how to use the Evaluation Result API to retrieve the results of your AI model evaluations. You'll find examples for each endpoint, demonstrating how to interact with the API using Python."
      ],
      "metadata": {
        "id": "IOeT9VfMqbsG"
      },
      "id": "IOeT9VfMqbsG"
    },
    {
      "cell_type": "markdown",
      "id": "61e59869-7cb2-4fa9-9f86-bd8660952b1a",
      "metadata": {
        "id": "61e59869-7cb2-4fa9-9f86-bd8660952b1a"
      },
      "source": [
        "# Initialization"
      ]
    },
    {
      "cell_type": "markdown",
      "source": [
        "Before you begin, set up your environment with the necessary parameters.\n",
        "\n",
        "Set the `$BASE_URL`, `$SAIA_PROJECT_APITOKEN`, evaluation plan ID, and evaluation result ID:\n",
        "\n",
        "* `global_url`:  Set this to the URL of your Globant Enterprise AI environment (e.g., \"https://eval-api.saia.ai\"). This is represented by the `$BASE_URL` variable.\n",
        "\n",
        "* `global_token`:  Provide your organization's API token, represented by the `$SAIA_PROJECT_APITOKEN` variable.\n",
        "\n",
        "* `global_evaluation_plan_id`:  Specify the `Id` of the evaluation plan for which you want to retrieve results.\n",
        "\n",
        "* `global_evaluation_result_id`:  Set the `Id` of a specific evaluation result you want to retrieve."
      ],
      "metadata": {
        "id": "pixtRlKsqjDS"
      },
      "id": "pixtRlKsqjDS"
    },
    {
      "cell_type": "code",
      "execution_count": null,
      "id": "127aeb8a-2514-4f67-a770-2ea4bea0e423",
      "metadata": {
        "id": "127aeb8a-2514-4f67-a770-2ea4bea0e423"
      },
      "outputs": [],
      "source": [
        "global_url = \"\"  # Example: \"https://eval-api.saia.ai\" ($BASE_URL)\n",
        "global_token = \"\"  # Your organization's API token ($SAIA_PROJECT_APITOKEN)\n",
        "global_evaluation_plan_id = \"\"  # Id of the evaluation plan\n",
        "global_evaluation_result_id = \"\"  # Id of the evaluation result\n",
        "\n",
        "import requests\n",
        "import urllib3\n",
        "import json\n",
        "\n",
        "urllib3.disable_warnings(urllib3.exceptions.InsecureRequestWarning)\n",
        "\n",
        "headers = {\n",
        "    \"Content-Type\": \"application/json\",\n",
        "    \"Authorization\": f\"Bearer {global_token}\"\n",
        "}"
      ]
    },
    {
      "cell_type": "markdown",
      "id": "2f9b9fb2-5de8-48ce-8729-7be5b883eeee",
      "metadata": {
        "id": "2f9b9fb2-5de8-48ce-8729-7be5b883eeee"
      },
      "source": [
        "# Working with Evaluation Results"
      ]
    },
    {
      "cell_type": "markdown",
      "id": "479f5f2d-7037-43dc-a3ba-5969b388b067",
      "metadata": {
        "id": "479f5f2d-7037-43dc-a3ba-5969b388b067"
      },
      "source": [
        "## Listing Evaluation Results"
      ]
    },
    {
      "cell_type": "markdown",
      "source": [
        "This endpoint retrieves a list of evaluation results for a given evaluation plan `Id`."
      ],
      "metadata": {
        "id": "3NITRAn7rLiQ"
      },
      "id": "3NITRAn7rLiQ"
    },
    {
      "cell_type": "code",
      "execution_count": null,
      "id": "9576b29e-6746-49e5-91cf-8293f1a8edb1",
      "metadata": {
        "id": "9576b29e-6746-49e5-91cf-8293f1a8edb1"
      },
      "outputs": [],
      "source": [
        "# Service URL\n",
        "url = f\"{global_url}/evaluationResultApi/evaluationResults/{global_evaluation_plan_id}\"\n",
        "\n",
        "try:\n",
        "    # Make the GET request\n",
        "    response = requests.get(url, headers=headers, verify=False)\n",
        "\n",
        "    # Check if the request was successful\n",
        "    if response.status_code == 200:\n",
        "        print(\"Service response:\")\n",
        "        print(response.json())  # If the response is in JSON format\n",
        "    else:\n",
        "        print(f\"Request error: {response.status_code}\")\n",
        "        print(response.text)  # Displays the response content in case of an error\n",
        "\n",
        "except requests.exceptions.RequestException as e:\n",
        "    print(f\"Error connecting to the service: {e}\")"
      ]
    },
    {
      "cell_type": "markdown",
      "id": "1529adc1-5293-4460-9b8c-75428c2f2e16",
      "metadata": {
        "id": "1529adc1-5293-4460-9b8c-75428c2f2e16"
      },
      "source": [
        "## Retrieving an Evaluation Result"
      ]
    },
    {
      "cell_type": "markdown",
      "source": [
        "This endpoint retrieves a specific evaluation result by its `Id`."
      ],
      "metadata": {
        "id": "siJjS0fDrT6p"
      },
      "id": "siJjS0fDrT6p"
    },
    {
      "cell_type": "code",
      "execution_count": null,
      "id": "88f04e42-c4eb-4214-b3ed-f815d3dd5779",
      "metadata": {
        "id": "88f04e42-c4eb-4214-b3ed-f815d3dd5779"
      },
      "outputs": [],
      "source": [
        "# Service URL\n",
        "url = f\"{global_url}/evaluationResultApi/evaluationResult/{global_evaluation_result_id}\"\n",
        "\n",
        "try:\n",
        "    # Make the GET request\n",
        "    response = requests.get(url, headers=headers, verify=False)\n",
        "\n",
        "    # Check if the request was successful\n",
        "    if response.status_code == 200:\n",
        "        print(\"Service response:\")\n",
        "        print(response.json())  # If the response is in JSON format\n",
        "    else:\n",
        "        print(f\"Request error: {response.status_code}\")\n",
        "        print(response.text)  # Displays the response content in case of an error\n",
        "\n",
        "except requests.exceptions.RequestException as e:\n",
        "    print(f\"Error connecting to the service: {e}\")"
      ]
    }
  ],
  "metadata": {
    "kernelspec": {
      "display_name": "Python 3 (ipykernel)",
      "language": "python",
      "name": "python3"
    },
    "language_info": {
      "codemirror_mode": {
        "name": "ipython",
        "version": 3
      },
      "file_extension": ".py",
      "mimetype": "text/x-python",
      "name": "python",
      "nbconvert_exporter": "python",
      "pygments_lexer": "ipython3",
      "version": "3.12.7"
    },
    "colab": {
      "provenance": []
    }
  },
  "nbformat": 4,
  "nbformat_minor": 5
}