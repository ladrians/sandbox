{
 "cells": [
  {
   "cell_type": "markdown",
   "id": "65b2468c-289c-44f3-ae23-0c03e1ab0f1e",
   "metadata": {
    "id": "65b2468c-289c-44f3-ae23-0c03e1ab0f1e"
   },
   "source": [
    "# Inicialization"
   ]
  },
  {
   "cell_type": "markdown",
   "id": "74ccb131-7d4e-4072-afa4-4a3ebc208874",
   "metadata": {
    "id": "74ccb131-7d4e-4072-afa4-4a3ebc208874"
   },
   "source": [
    "Initialization of parameters, headers, and URL.\n",
    "Modify the global_token, global_evaluation_plan_Id, global_data_set_id  and global_url according to your needs."
   ]
  },
  {
   "cell_type": "code",
   "execution_count": 1,
   "id": "9bf54a62-814e-4ea6-9d15-81d35426e9a6",
   "metadata": {
    "executionInfo": {
     "elapsed": 404,
     "status": "ok",
     "timestamp": 1741292874903,
     "user": {
      "displayName": "Vicente Enrique Machaca Arceda",
      "userId": "04598897677493798070"
     },
     "user_tz": 300
    },
    "id": "9bf54a62-814e-4ea6-9d15-81d35426e9a6"
   },
   "outputs": [],
   "source": [
    "global_url = \"https://eval-api.qa.saia.ai\" # Aqui poner la url del ambiente, ejemplo: \"https://eval-api.saia.ai\" ($BASE_URL)\n",
    "global_token = \"qa_IZpuGDaGbCmt5SiK7FAdRUdUwnT6YWF3uSotCqOCpxoYrfuc7vPXmxUvmye7rVde25_bU1uKCIyaz1DTwStxtQ\" # Aqui poner el token de organizacion ($SAIA_PROJECT_APITOKEN)\n",
    "\n",
    "\n",
    "# No modificar estos valores\n",
    "import requests\n",
    "import urllib3\n",
    "import json\n",
    "\n",
    "urllib3.disable_warnings(urllib3.exceptions.InsecureRequestWarning)\n",
    "\n",
    "headers = {\n",
    "    \"Content-Type\": \"application/json\",\n",
    "    \"Authorization\": f\"Bearer {global_token}\"\n",
    "}"
   ]
  },
  {
   "cell_type": "markdown",
   "id": "bf7ae5e5-db3a-410c-807c-e57fe76b987c",
   "metadata": {
    "id": "bf7ae5e5-db3a-410c-807c-e57fe76b987c"
   },
   "source": [
    "# Data set"
   ]
  },
  {
   "cell_type": "markdown",
   "id": "b60663f4-a47f-46e6-bbc0-aa4ad5bbac64",
   "metadata": {
    "id": "b60663f4-a47f-46e6-bbc0-aa4ad5bbac64"
   },
   "source": [
    "Create the dataset you want to use. The DataSetId will be obtained automatically for later use in the evaluation plan."
   ]
  },
  {
   "cell_type": "code",
   "execution_count": 4,
   "id": "7f707305-c8c0-4857-8300-361df4b6b9c8",
   "metadata": {
    "id": "7f707305-c8c0-4857-8300-361df4b6b9c8",
    "outputId": "bd0c814f-ed36-49ca-8367-1fc8bf4ba822"
   },
   "outputs": [
    {
     "name": "stdout",
     "output_type": "stream",
     "text": [
      "Request successful. Server response:\n",
      "{\n",
      "    \"dataSetActive\": true,\n",
      "    \"dataSetCreateDate\": \"2025-03-10\",\n",
      "    \"dataSetDescription\": \"ls_02\",\n",
      "    \"dataSetId\": \"329d35ce-dcc7-492b-b586-7d9cf0d18f96\",\n",
      "    \"dataSetName\": \"ls_02\",\n",
      "    \"dataSetType\": \"T\",\n",
      "    \"dataSetUpdateDate\": \"2025-03-10\",\n",
      "    \"rows\": [\n",
      "        {\n",
      "            \"dataSetRowExpectedAnswer\": \"Globant Enterprise AI is a business platform designed to facilitate the implementation of AI assistants tailored to specific needs and areas of expertise. It allows users to create AI assistants that can integrate and interact with current operations, processes, systems, and documents, paving the way for innovation and productivity. A key feature of Globant Enterprise AI is the ability to select a Large Language Model (LLM) and switch to another without needing to change the definitions of existing assistants. This platform acts as a secure bridge, connecting enterprise applications to LLMs while ensuring the protection of data, which will not be made public or used by the LLMs.\\n\\nAdditionally, it offers various features like monitoring access to LLMs, providing a web interface branded by the organization, supervising costs, managing quotas, and creating APIs to facilitate AI capabilities in corporate software. The platform also emphasizes maintaining security, scalability, and observability in its operations\",\n",
      "            \"dataSetRowId\": \"5c0c1439-7b2a-47b7-b06f-bdbfe428d853\",\n",
      "            \"dataSetRowInput\": \"What is Globant Enterprise AI?\"\n",
      "        },\n",
      "        {\n",
      "            \"dataSetRowExpectedAnswer\": \"To use a flow assistant in the Globant Enterprise AI Backoffice, you can follow these steps:\\n\\n1. **Navigate to the Flows Section**: Access the Flows section from the Project Options in the Backoffice Menu. This section allows you to create customized conversational flows that enhance interactions with end users.\\n\\n2. **Create a Flow**: In the Flows section, you can create new conversational flows by integrating different specialized assistants tailored to specific tasks or user interactions.\\n\\n3. **Define the Flow Steps**: Customize the various steps in your flow to dictate how the interaction with users will progress. This may include defining the questions asked, the responses provided, and how different assistants interact within the flow.\\n\\n4. **Test Your Flow**: Once your flow is created, you can test it using the Playground. The Playground provides an interactive environment to see how users will interact with the configured assistants in real-time.\\n\\n5. **Adjust Configurations**: Based on the testing in the Playground, you can optimize and adjust the configurations of your flow to enhance user experience and ensure efficient resource utilization.\\n\\nFor more detailed options and functionalities about flows, refer to the relevant section in the documentation [here](https://wiki.genexus.com/enterprise-ai/wiki?42) [1](https://wiki.genexus.com/enterprise-ai/wiki?42).\",\n",
      "            \"dataSetRowId\": \"8c2d76b2-37cd-449d-a121-cc5a6ede5325\",\n",
      "            \"dataSetRowInput\": \"how do I use a flow assistant?\"\n",
      "        },\n",
      "        {\n",
      "            \"dataSetRowExpectedAnswer\": \"To use the Data Analyst Assistant, you can analyze datasets based on CSV files to obtain insights or create forecasts using natural language queries. This assistant allows you to ask questions about the data, and it will interpret your queries to provide relevant results.\\n\\nFor more details, you can refer to the [Assistants documentation](https://wiki.genexus.com/enterprise-ai/wiki?566) which outlines the capabilities and features of various assistants, including the Data Analyst Assistant [here](89.html) for specific instructions related to it. This information is found in the context discussing assistants. [1](https://wiki.genexus.com/enterprise-ai/wiki?566)\",\n",
      "            \"dataSetRowId\": \"492dfb82-71d3-4575-91a1-858df1c7c828\",\n",
      "            \"dataSetRowInput\": \"How do I use the Data Analyst assistant?\"\n",
      "        },\n",
      "        {\n",
      "            \"dataSetRowExpectedAnswer\": \"To get started with the Chat with Data Assistant, you can follow these steps:\\n\\n1. **Access the Backoffice**: Log in to the [Globant Enterprise AI Backoffice](https://wiki.genexus.com/enterprise-ai/wiki?42) using your organization administrator credentials.\\n \\n2. **Upload Metadata**: Upload the necessary metadata in a file with an **.export** extension.\\n\\n3. **Configure Database Connection**: Set up the connection options for a supported DBMS (currently includes SQL Server, MySQL, PostgreSQL, Oracle, and more).\\n\\n4. **Select Your Assistant**: After configuration, navigate to the **Frontend** and select the Chat with Data Assistant you created.\\n\\n5. **Query Using Natural Language**: You can now make queries using natural language directly from the frontend, greatly improving the data search and retrieval process.\\n\\n> **Note**: Ensure that the database is accessible via the internet and that the required ADO.NET drivers are installed for the connection.\\n\\nFor more detailed information, refer to the guide on [Chat with Data Assistant](https://wiki.genexus.com/enterprise-ai/wiki?159).\",\n",
      "            \"dataSetRowId\": \"cda39ec9-6aa1-4b65-8ba3-322305685bba\",\n",
      "            \"dataSetRowInput\": \"How do I get started with the Chat with Data Assistant?\"\n",
      "        }\n",
      "    ]\n",
      "}\n"
     ]
    }
   ],
   "source": [
    "# Service URL\n",
    "url = f\"{global_url}/dataSetApi/dataSet\"\n",
    "\n",
    "# JSON data to be sent in the request body\n",
    "payload = {\n",
    "\t\"dataSetName\": \"ls_02\",\n",
    "\t\"dataSetDescription\": \"ls_02\",\n",
    "\t\"dataSetType\": \"T\",\n",
    "\t\"dataSetActive\": True,\n",
    "\t\"rows\": [\n",
    "\t\t{\n",
    "\t\t\t\"dataSetRowExpectedAnswer\": \"Globant Enterprise AI is a business platform designed to facilitate the implementation of AI assistants tailored to specific needs and areas of expertise. It allows users to create AI assistants that can integrate and interact with current operations, processes, systems, and documents, paving the way for innovation and productivity. A key feature of Globant Enterprise AI is the ability to select a Large Language Model (LLM) and switch to another without needing to change the definitions of existing assistants. This platform acts as a secure bridge, connecting enterprise applications to LLMs while ensuring the protection of data, which will not be made public or used by the LLMs.\\n\\nAdditionally, it offers various features like monitoring access to LLMs, providing a web interface branded by the organization, supervising costs, managing quotas, and creating APIs to facilitate AI capabilities in corporate software. The platform also emphasizes maintaining security, scalability, and observability in its operations\",\n",
    "\t\t\t\"dataSetRowContextDocument\": \"Globant Enterprise AI Overview\",\n",
    "\t\t\t\"dataSetRowInput\": \"What is Globant Enterprise AI?\",\n",
    "\t\t\t\"expectedSources\": [\n",
    "                # Globant Enterprise AI API Reference, Globant Enterprise AI Overview, API Assistant, RAG Custom File Format sample\n",
    "\t\t\t],\n",
    "\t\t\t\"filterVariables\": [\n",
    "\t\t\t]\n",
    "\t\t},\n",
    "        {\n",
    "\t\t\t\"dataSetRowExpectedAnswer\": \"To use a flow assistant in the Globant Enterprise AI Backoffice, you can follow these steps:\\n\\n1. **Navigate to the Flows Section**: Access the Flows section from the Project Options in the Backoffice Menu. This section allows you to create customized conversational flows that enhance interactions with end users.\\n\\n2. **Create a Flow**: In the Flows section, you can create new conversational flows by integrating different specialized assistants tailored to specific tasks or user interactions.\\n\\n3. **Define the Flow Steps**: Customize the various steps in your flow to dictate how the interaction with users will progress. This may include defining the questions asked, the responses provided, and how different assistants interact within the flow.\\n\\n4. **Test Your Flow**: Once your flow is created, you can test it using the Playground. The Playground provides an interactive environment to see how users will interact with the configured assistants in real-time.\\n\\n5. **Adjust Configurations**: Based on the testing in the Playground, you can optimize and adjust the configurations of your flow to enhance user experience and ensure efficient resource utilization.\\n\\nFor more detailed options and functionalities about flows, refer to the relevant section in the documentation [here](https://wiki.genexus.com/enterprise-ai/wiki?42) [1](https://wiki.genexus.com/enterprise-ai/wiki?42).\",\n",
    "\t\t\t\"dataSetRowContextDocument\": \"Globant Enterprise AI Backoffice\",\n",
    "\t\t\t\"dataSetRowInput\": \"how do I use a flow assistant?\",\n",
    "\t\t\t\"expectedSources\": [\n",
    "\t\t\t],\n",
    "\t\t\t\"filterVariables\": [\n",
    "\t\t\t]\n",
    "\t\t},\n",
    "        {\n",
    "\t\t\t\"dataSetRowExpectedAnswer\": \"To use the Data Analyst Assistant, you can analyze datasets based on CSV files to obtain insights or create forecasts using natural language queries. This assistant allows you to ask questions about the data, and it will interpret your queries to provide relevant results.\\n\\nFor more details, you can refer to the [Assistants documentation](https://wiki.genexus.com/enterprise-ai/wiki?566) which outlines the capabilities and features of various assistants, including the Data Analyst Assistant [here](89.html) for specific instructions related to it. This information is found in the context discussing assistants. [1](https://wiki.genexus.com/enterprise-ai/wiki?566)\",\n",
    "\t\t\t\"dataSetRowContextDocument\": \"Assistants\",\n",
    "\t\t\t\"dataSetRowInput\": \"How do I use the Data Analyst assistant?\",\n",
    "\t\t\t\"expectedSources\": [\n",
    "\t\t\t],\n",
    "\t\t\t\"filterVariables\": [\n",
    "\t\t\t]\n",
    "\t\t},\n",
    "        {\n",
    "\t\t\t\"dataSetRowExpectedAnswer\": \"To get started with the Chat with Data Assistant, you can follow these steps:\\n\\n1. **Access the Backoffice**: Log in to the [Globant Enterprise AI Backoffice](https://wiki.genexus.com/enterprise-ai/wiki?42) using your organization administrator credentials.\\n \\n2. **Upload Metadata**: Upload the necessary metadata in a file with an **.export** extension.\\n\\n3. **Configure Database Connection**: Set up the connection options for a supported DBMS (currently includes SQL Server, MySQL, PostgreSQL, Oracle, and more).\\n\\n4. **Select Your Assistant**: After configuration, navigate to the **Frontend** and select the Chat with Data Assistant you created.\\n\\n5. **Query Using Natural Language**: You can now make queries using natural language directly from the frontend, greatly improving the data search and retrieval process.\\n\\n> **Note**: Ensure that the database is accessible via the internet and that the required ADO.NET drivers are installed for the connection.\\n\\nFor more detailed information, refer to the guide on [Chat with Data Assistant](https://wiki.genexus.com/enterprise-ai/wiki?159).\",\n",
    "\t\t\t\"dataSetRowContextDocument\": \"Chat with Data Assistant Use Guidelines\",\n",
    "\t\t\t\"dataSetRowInput\": \"How do I get started with the Chat with Data Assistant?\",\n",
    "\t\t\t\"expectedSources\": [\n",
    "\t\t\t],\n",
    "\t\t\t\"filterVariables\": [\n",
    "\t\t\t]\n",
    "\t\t}\n",
    "\t]\n",
    "}\n",
    "\n",
    "\n",
    "# Make the POST request\n",
    "try:\n",
    "    response = requests.post(url, json=payload, headers=headers, verify=False)\n",
    "\n",
    "    # Check the response status code\n",
    "    if response.status_code == 200:\n",
    "        print(\"Request successful. Server response:\")\n",
    "        print(json.dumps(response.json(), indent=4 ,ensure_ascii=False))  # Print the response in JSON format\n",
    "\n",
    "        # Load the JSON response\n",
    "        response_data = response.json()\n",
    "\n",
    "        # Extract the dataSetId\n",
    "        data_set_id = response_data.get(\"dataSetId\")\n",
    "\n",
    "        # Save it in a global variable or file\n",
    "        # Global variable\n",
    "        global_data_set_id = data_set_id  # This will be available in the Notebook\n",
    "\n",
    "    else:\n",
    "        print(f\"Request error: {response.status_code}\")\n",
    "        print(\"Server response:\")\n",
    "        print(response.text)\n",
    "\n",
    "except requests.exceptions.RequestException as e:\n",
    "    print(f\"Error connecting to the service: {e}\")"
   ]
  },
  {
   "cell_type": "markdown",
   "id": "dfe8d6ca-7193-4156-81f1-ac692688ac40",
   "metadata": {
    "id": "dfe8d6ca-7193-4156-81f1-ac692688ac40"
   },
   "source": [
    "# List system metrics"
   ]
  },
  {
   "cell_type": "markdown",
   "id": "57046721-c0d5-4ab3-9677-152ae9b914e1",
   "metadata": {
    "id": "57046721-c0d5-4ab3-9677-152ae9b914e1"
   },
   "source": [
    "List all system metrics. Copy the systemMetricId of the selected metric to evaluate in the evaluation plan."
   ]
  },
  {
   "cell_type": "code",
   "execution_count": 5,
   "id": "434de925-94b1-4b6c-b11b-11eabe82c362",
   "metadata": {
    "id": "434de925-94b1-4b6c-b11b-11eabe82c362",
    "outputId": "ead231b9-1c70-47b7-be29-12b826c6d429"
   },
   "outputs": [
    {
     "name": "stdout",
     "output_type": "stream",
     "text": [
      "Service response:\n",
      "[{'systemMetricCategory': 'S', 'systemMetricEvaluatorId': '5c0aaa13-ef79-4740-a78a-e67dd68554d6', 'systemMetricEvaluatorName': 'Context Accuracy Evaluator', 'systemMetricEvaluatorVersion': 1, 'systemMetricId': '49a13ebd-371c-4573-a5a2-96ce0875c314', 'systemMetricMinScore': '0.50000', 'systemMetricName': 'Context Accuracy Metric', 'systemMetricRevision': 0, 'systemMetricServiceId': '1c612fdd-7330-4483-bfa9-ed5acbb76312'}, {'systemMetricCategory': 'S', 'systemMetricEvaluatorId': 'abebbd9e-ba37-4cea-a107-8f770acfe04a', 'systemMetricEvaluatorName': 'AccuracyAssistant', 'systemMetricEvaluatorVersion': 1, 'systemMetricId': '5504ac1f-b247-4fe3-8923-20ea61735038', 'systemMetricMinScore': '0.70000', 'systemMetricName': 'Accuracy', 'systemMetricRevision': 0, 'systemMetricServiceId': '7187d325-8b91-4ebb-b933-f3d85cc7af2b'}]\n"
     ]
    }
   ],
   "source": [
    "# Service URL\n",
    "url = f\"{global_url}/evaluationPlanApi/systemMetrics/\"\n",
    "\n",
    "try:\n",
    "    # Make the GET request\n",
    "    response = requests.get(url, headers=headers, verify=False)\n",
    "\n",
    "    # Check if the request was successful\n",
    "    if response.status_code == 200:\n",
    "        print(\"Service response:\")\n",
    "        print(response.json())  # If the response is in JSON format\n",
    "    else:\n",
    "        print(f\"Request error: {response.status_code}\")\n",
    "        print(response.text)\n",
    "\n",
    "except requests.exceptions.RequestException as e:\n",
    "    print(f\"Error connecting to the service: {e}\")"
   ]
  },
  {
   "cell_type": "markdown",
   "id": "f5c7cbcb-8b8e-48b1-b572-d6efbc6c3e8b",
   "metadata": {
    "id": "f5c7cbcb-8b8e-48b1-b572-d6efbc6c3e8b"
   },
   "source": [
    "# Inicialization of SystemMetric"
   ]
  },
  {
   "cell_type": "markdown",
   "id": "9b3c3181-5240-4bbb-9894-873a36a84235",
   "metadata": {
    "id": "9b3c3181-5240-4bbb-9894-873a36a84235"
   },
   "source": [
    "Modify global_system_metric_id with the systemMetricId of the selected metric in the previous step."
   ]
  },
  {
   "cell_type": "code",
   "execution_count": 7,
   "id": "3f21062e-d300-45f7-8cbb-bbf2329392af",
   "metadata": {
    "id": "3f21062e-d300-45f7-8cbb-bbf2329392af"
   },
   "outputs": [],
   "source": [
    "global_system_metric_id = \"5504ac1f-b247-4fe3-8923-20ea61735038\" # AccuracyAssistant\n",
    "global_context_system_metric_id = \"49a13ebd-371c-4573-a5a2-96ce0875c314\" # Context Accuracy Metric"
   ]
  },
  {
   "cell_type": "markdown",
   "id": "19397819-d9b4-40cc-94bc-aefc86c1d62c",
   "metadata": {
    "id": "19397819-d9b4-40cc-94bc-aefc86c1d62c"
   },
   "source": [
    "# Evaluation plan"
   ]
  },
  {
   "cell_type": "markdown",
   "id": "152981bb-5561-42d4-80cb-33cf30840d72",
   "metadata": {
    "id": "152981bb-5561-42d4-80cb-33cf30840d72"
   },
   "source": [
    "Create the evaluation plan you want to use. The dataset used will be the one created previously, and the metric to be evaluated will be the one selected in the previous step. global_data_set_id and global_system_metric_id are already previously obtained"
   ]
  },
  {
   "cell_type": "code",
   "execution_count": 8,
   "id": "56b5b5e8-faea-4998-8b06-929bef9d969a",
   "metadata": {
    "id": "56b5b5e8-faea-4998-8b06-929bef9d969a",
    "outputId": "7886a3df-28ae-488d-84fa-db97349f2414"
   },
   "outputs": [
    {
     "name": "stdout",
     "output_type": "stream",
     "text": [
      "Request successful. Server response:\n",
      "{\n",
      "    \"dataSetId\": \"329d35ce-dcc7-492b-b586-7d9cf0d18f96\",\n",
      "    \"evaluationPlanId\": \"6cb956a0-6dc8-41b8-9046-3bf62a7a2320\",\n",
      "    \"evaluationPlanName\": \"ls_plan_b\",\n",
      "    \"evaluationPlanProfileName\": \"geai\",\n",
      "    \"evaluationPlanType\": \"RAG Assistant\",\n",
      "    \"systemMetrics\": [\n",
      "        {\n",
      "            \"systemMetricCategory\": \"S\",\n",
      "            \"systemMetricEvaluatorId\": \"abebbd9e-ba37-4cea-a107-8f770acfe04a\",\n",
      "            \"systemMetricEvaluatorName\": \"AccuracyAssistant\",\n",
      "            \"systemMetricEvaluatorVersion\": 1,\n",
      "            \"systemMetricId\": \"5504ac1f-b247-4fe3-8923-20ea61735038\",\n",
      "            \"systemMetricMinScore\": \"0.70000\",\n",
      "            \"systemMetricName\": \"Accuracy\",\n",
      "            \"systemMetricRevision\": 0,\n",
      "            \"systemMetricServiceId\": \"7187d325-8b91-4ebb-b933-f3d85cc7af2b\",\n",
      "            \"systemMetricWeight\": 0.5\n",
      "        },\n",
      "        {\n",
      "            \"systemMetricCategory\": \"S\",\n",
      "            \"systemMetricEvaluatorId\": \"5c0aaa13-ef79-4740-a78a-e67dd68554d6\",\n",
      "            \"systemMetricEvaluatorName\": \"Context Accuracy Evaluator\",\n",
      "            \"systemMetricEvaluatorVersion\": 1,\n",
      "            \"systemMetricId\": \"49a13ebd-371c-4573-a5a2-96ce0875c314\",\n",
      "            \"systemMetricMinScore\": \"0.50000\",\n",
      "            \"systemMetricName\": \"Context Accuracy Metric\",\n",
      "            \"systemMetricRevision\": 0,\n",
      "            \"systemMetricServiceId\": \"1c612fdd-7330-4483-bfa9-ed5acbb76312\",\n",
      "            \"systemMetricWeight\": 0.5\n",
      "        }\n",
      "    ]\n",
      "}\n"
     ]
    }
   ],
   "source": [
    "# Service URL\n",
    "url = f\"{global_url}/evaluationPlanApi/evaluationPlan\"\n",
    "\n",
    "# JSON data to be sent in the request body\n",
    "payload = {\n",
    "  \"evaluationPlanName\": \"ls_plan_b\", # Aca va el nombre del plan\n",
    "  \"evaluationPlanType\": \"RAG Assistant\", # Aca va el tipo de asistente: RAG Assistant, TextPromptAssistant o MultiModal\n",
    "  \"evaluationPlanAssistantId\": \"\", # Aca va el id del asistente, solo para evaluationPlanType = TextPromptAssistant o MultiModal\n",
    "  \"evaluationPlanAssistantName\": \"\", # Aca va el nombre del asistente, solo para evaluationPlanType = TextPromptAssistant o MultiModal\n",
    "  \"evaluationPlanAssistantRevision\": \"\", # Aca va la revision del asistente, solo para evaluationPlanType = TextPromptAssistant o MultiModal\n",
    "  \"evaluationPlanProfileName\": \"geai\", # Aca va el nombre del perfil del asistente, solo para evaluationPlanType = RAG Assistant\n",
    "  \"dataSetId\": global_data_set_id,\n",
    "  \"systemMetrics\": [\n",
    "    {\n",
    "      \"systemMetricId\": global_system_metric_id,\n",
    "      \"systemMetricWeight\": \"0.5\"\n",
    "    },\n",
    "    {\n",
    "      \"systemMetricId\": global_context_system_metric_id,\n",
    "      \"systemMetricWeight\": \"0.5\"\n",
    "    }\n",
    "  ]\n",
    "}\n",
    "\n",
    "# Make the POST request\n",
    "try:\n",
    "    response = requests.post(url, json=payload, headers=headers, verify=False)\n",
    "\n",
    "    # Check the response status code\n",
    "    if response.status_code == 200:\n",
    "        print(\"Request successful. Server response:\")\n",
    "        print(json.dumps(response.json(), indent=4 ,ensure_ascii=False))  # Print the response in JSON format\n",
    "\n",
    "        # Load the JSON response\n",
    "        response_data = response.json()\n",
    "\n",
    "        # Extract the evaluation_plan_Id\n",
    "        evaluation_plan_Id = response_data.get(\"evaluationPlanId\")\n",
    "\n",
    "        # Save it in a global variable or file\n",
    "        # Global variable\n",
    "        global_evaluation_plan_Id = evaluation_plan_Id  # This will be available in the Notebook\n",
    "\n",
    "    else:\n",
    "        print(f\"Request error: {response.status_code}\")\n",
    "        print(\"Server response:\")\n",
    "        print(response.text)\n",
    "\n",
    "except requests.exceptions.RequestException as e:\n",
    "    print(f\"Error connecting to the service: {e}\")"
   ]
  },
  {
   "cell_type": "markdown",
   "id": "7823727a-5f51-4f80-8c39-5820d793fe74",
   "metadata": {
    "id": "7823727a-5f51-4f80-8c39-5820d793fe74"
   },
   "source": [
    "# Execute plan"
   ]
  },
  {
   "cell_type": "markdown",
   "id": "3c943ab1-94e8-49d1-aafe-90d2513c56fb",
   "metadata": {
    "id": "3c943ab1-94e8-49d1-aafe-90d2513c56fb"
   },
   "source": [
    "Execute the previously created plan. The result evaluationResultId will be obtained automatically for later use. global_evaluation_plan_Id is already previously obtained"
   ]
  },
  {
   "cell_type": "code",
   "execution_count": 9,
   "id": "d79251ed-81ac-4572-b759-100d50945467",
   "metadata": {
    "id": "d79251ed-81ac-4572-b759-100d50945467",
    "outputId": "1fb4b775-bcf3-4871-d9ad-92ab6e5772e6"
   },
   "outputs": [
    {
     "name": "stdout",
     "output_type": "stream",
     "text": [
      "Request successful. Server response:\n",
      "{\n",
      "    \"evaluationResultId\": \"6f3d172e-fabc-46f3-beef-ed4e2846c3c8\"\n",
      "}\n"
     ]
    }
   ],
   "source": [
    "# Service URL\n",
    "url = f\"{global_url}/evaluationPlanApi/evaluationPlan/{global_evaluation_plan_Id}\"\n",
    "\n",
    "# Make the POST request\n",
    "try:\n",
    "    response = requests.post(url,  headers=headers, verify=False)\n",
    "\n",
    "    # Check the response status code\n",
    "    if response.status_code == 200:\n",
    "        print(\"Request successful. Server response:\")\n",
    "        print(json.dumps(response.json(), indent=4 ,ensure_ascii=False))  # Print the response in JSON format\n",
    "\n",
    "        # Load the JSON response\n",
    "        response_data = response.json()\n",
    "\n",
    "        # Extract the evaluation_result_Id\n",
    "        evaluation_result_Id = response_data.get(\"evaluationResultId\")\n",
    "\n",
    "        # Save it in a global variable or file\n",
    "        # Global variable\n",
    "        global_evaluation_result_id = evaluation_result_Id  # This will be available in the Notebook\n",
    "\n",
    "    else:\n",
    "        print(f\"Request error: {response.status_code}\")\n",
    "        print(\"Server response:\")\n",
    "        print(response.text)\n",
    "\n",
    "except requests.exceptions.RequestException as e:\n",
    "    print(f\"Error connecting to the service: {e}\")"
   ]
  },
  {
   "cell_type": "markdown",
   "id": "4cf50809-dfd5-46e9-a902-1eb33087af55",
   "metadata": {
    "id": "4cf50809-dfd5-46e9-a902-1eb33087af55"
   },
   "source": [
    "# Get evaluation result"
   ]
  },
  {
   "cell_type": "markdown",
   "id": "a4bfc6d8-0fd4-4123-9fbe-0a7095094426",
   "metadata": {
    "id": "a4bfc6d8-0fd4-4123-9fbe-0a7095094426"
   },
   "source": [
    "Retrieve the result of the previously executed plan."
   ]
  },
  {
   "cell_type": "code",
   "execution_count": 10,
   "id": "c65185a6-b26a-43fe-8144-d19ecebb36af",
   "metadata": {
    "id": "c65185a6-b26a-43fe-8144-d19ecebb36af",
    "outputId": "8227130e-f965-4663-f356-a3c423728680"
   },
   "outputs": [
    {
     "name": "stdout",
     "output_type": "stream",
     "text": [
      "Service response:\n",
      "{'dataSetId': '329d35ce-dcc7-492b-b586-7d9cf0d18f96', 'evaluationPlanId': '6cb956a0-6dc8-41b8-9046-3bf62a7a2320', 'evaluationPlanProfileName': 'geai', 'evaluationResultChunckCount': 5, 'evaluationResultChunckSize': '7000', 'evaluationResultCost': '0E-10', 'evaluationResultDuration': '0', 'evaluationResultEndDate': '2025-03-10', 'evaluationResultId': '6f3d172e-fabc-46f3-beef-ed4e2846c3c8', 'evaluationResultModelName': 'gpt-4o-mini', 'evaluationResultProviderName': 'openai', 'evaluationResultStartDate': '2025-03-10', 'evaluationResultStatus': 'F', 'evaluationResultTemperature': 0.0, 'evaluationResultUploadFiles': False, 'evaluationResultaMaxTokens': '1502', 'evaluationResultaRetrievalMethod': 'multiQuery', 'rows': [{'contexts': [{'evaluationResultRowContextChunk': '# Assistants An Artificial Intelligence Assistant is software that uses technologies like natural language processing to understand voice and text commands. It can perform many tasks similar to a human assistant, such as reading text, taking dictation, searching for information in documents, and more. Globant Enterprise AI allows you to create and manage assistants for different use cases. These assistants can manage conversations, analyze data, integrate with APIs, etc. These assistants allow you to choose different LLMs when creating the assistant. Additionally, you have assistant definition versioning, which allows you to change the prompting, LLM, and configuration, providing more flexibility. ### [Assistant Types](#Assistant+Types) - [Chat Assistant](708.html): Creates conversational assistants with AI Large Language Models, supporting multi-modal experience to process documents, images, audio or video.\\n- [Data Analyst Assistant](89.html): Analyzes datasets based on CSV files to get insights or create forecasts using natural language queries.\\n- [API Assistant](110.html): Creates conversation assistants to use REST APIs. This allows you to integrate with existing APIs and use natural language to get information or update data based on the methods exposed by the API.\\n- [Chat with Data Assistant](159.html): Asks questions to get information from a relational database. Based on the database schema the user can ask questions in natural language and get the information in charts, timelines, pivots, cards or table formats.\\n- [RAG Assistant](44.html): Adds documents in the Knowledge Base defined for this assistant and chats about the document’s contents. Create a super search or question and answer assistant.', 'evaluationResultRowContextId': '5ccacceb-5282-4284-8ba0-21eee898dfec', 'evaluationResultRowContextLink': 'https://wiki.genexus.com/enterprise-ai/wiki?566', 'evaluationResultRowContextPrecision': 0.0}], 'dataMetrics': [{'evaluationResultRowMetricFeedback': '', 'evaluationResultRowMetricResult': '', 'evaluationResultRowMetricScore': 0.0, 'systemMetricId': '49a13ebd-371c-4573-a5a2-96ce0875c314'}, {'evaluationResultRowMetricFeedback': '', 'evaluationResultRowMetricResult': '', 'evaluationResultRowMetricScore': 0.8, 'systemMetricId': '5504ac1f-b247-4fe3-8923-20ea61735038'}], 'dataSetRowId': '492dfb82-71d3-4575-91a1-858df1c7c828', 'evaluationResultRowCost': '0.0002707600', 'evaluationResultRowEndDate': '2025-03-10T14:47:34', 'evaluationResultRowOutput': 'To use the Data Analyst Assistant, you can follow these steps:\\n\\n1. **Create the Assistant**: In the Globant Enterprise AI platform, you can create a Data Analyst Assistant that specifically analyzes datasets based on CSV files.\\n\\n2. **Input Your Dataset**: You can upload your CSV files containing the data you want to analyze. \\n\\n3. **Utilize Natural Language Queries**: Once your dataset is uploaded, you can use natural language queries to ask for insights or create forecasts from the data. The assistant will process your queries and extract the relevant information.\\n\\n4. **Review Insights**: The Data Analyst Assistant will provide insights based on the queries you ask, making it easier to understand the data without needing in-depth knowledge of data analysis techniques.\\n\\nFor further details, you can refer to the specific information about the Data Analyst Assistant in the documentation [here](https://wiki.genexus.com/enterprise-ai/wiki?566). This overview aligns with the overall function of the assistants that Globant provides [{1}](https://wiki.genexus.com/enterprise-ai/wiki?566).', 'evaluationResultRowStartDate': '2025-03-10T14:47:26', 'evaluationResultRowStatus': 'F'}, {'contexts': [{'evaluationResultRowContextChunk': '# API Assistant API Assistant is a feature of Globant Enterprise AI that allows you to define assistants to chat and interact with any external REST API compliant with the OpenAPI 3.0 specification or higher. This assistant leverages AI models and function calling capabilities to provide a dynamic way to chat with APIs using natural language. ## [Main features](#Main+features) Defining an API Assistant provides a range of advanced features designed to empower interaction with external APIs in an efficient and secure manner. Key features include: - **Compatibility with OpenAPI 3.0:** It is possible to interact with any API that is built following the OpenAPI 3.0 specification or later.\\n- **Customizable instructions:** The user can provide specific text instructions to guide the AI assistant in making decisions and accurately handling requests.\\n- **Model settings:** It allows you to adjust the AI model settings, such as temperature and the maximum number of tokens generated, to enhance and customize the assistant\\'s answers according to the user\\'s needs.\\n- **Security:** It ensures the security of interactions through the use of API tokens. These tokens, which can be of Basic or Bearer type, are used in the Authorization header to authenticate and authorize requests, thus protecting information and data.\\n- **Automated function calls:** It returns answers efficiently by making only the necessary API calls. This is achieved by Globant Enterprise AI\\'s intelligent model and automated function calls handling end user requests.\\n- **Multiple API calls:** The assistant’s intelligence is shown by making sequential calls to different APIs to obtain complex results. For example, upon receiving a question such as \\'What is the weather like in Tokyo and Montevideo?\\' the assistant identifies the need to query the weather API for each city mentioned. This ability to automatically handle multiple requests ensures a seamless experience for the user, who doesn\\'t need to intervene in the process. ## [Prerequisites](#Prerequisites) Before starting to use API Assistant, it is important to ensure that certain prerequisites are met: - You need to access Globant Enterprise AI. To do so, you can visit the [official website](https://www.genexus.com/en/products/genexus-enterprise-ai), where you will find contact information and details on how to obtain access to the platform.\\n- If your API is authenticated with an API Token (either Basic or Bearer), you must configure your requests to include this token in the authorization header, specifying the correct type. For example: `-H \"Authorization: Bearer $OPENAI_API_KEY\"`. In this way, when executing the call, the token will be used for the interaction.\\n- Verify that the API Specification is documented according to OpenAPI 3.0 or higher, in JSON format. This is important, as APIs that do not comply with this specification may not be fully supported.\\n- Avoid setting Message streaming because it is not supported. To define or update an API Assistant, you can use the [Globant Enterprise AI Backoffice](42.html) by following the steps described in [How to use API Assistant](123.html) or using the API.', 'evaluationResultRowContextId': '9c928f93-9b01-4a62-a4d7-bb735eb896ab', 'evaluationResultRowContextLink': 'https://wiki.genexus.com/enterprise-ai/wiki?110', 'evaluationResultRowContextPrecision': 0.0}, {'evaluationResultRowContextChunk': '# Globant Enterprise AI API Reference Globant Enterprise AI provides various APIs that, on one hand, allow integration with Large Language Model (LLM) systems and perform actions that modify the platform\\'s metadata. On the other hand, a different set of APIs enables interaction with defined assistants. ## Available APIs - [Chat API](34.html)\\n- [LLM API](663.html)\\n- [Organization API](22.html)\\n- [RAG Assistants API](29.html)\\n- [Rerank API](625.html)\\n- [Embeddings API](422.html)\\n- [Assistant API](35.html)\\n- [File API](450.html)\\n- [Feedback API](407.html) ## Generic Variables Notice the following properties needed when using the API. | Variable | Description |\\n|---|---|\\n| `$BASE_URL` | The base URL for your Globant Enterprise AI installation, for example, `https://api.saia.ai` or the value provided to you. |\\n| `$SAIA_APITOKEN` | An API token generated for each project. | ## Authentication In order to use the API, you need to authenticate each request using [API Tokens](564.html). These tokens are managed in [Globant Enterprise AI Backoffice](42.html). To authenticate your requests, you need to provide your token via HTTP Bearer Token. This means that your token is encoded in the username field, and the password field should be left empty. Once authenticated, you will be able to access all endpoints within your API scope. For security purposes, it is strongly recommended that you do not share your API tokens with anyone and revoke them immediately if they are compromised. ## Errors REST API employs the widely accepted practice of using HTTP response codes to convey the status of an API request. The codes in the 2xx range indicate that the request was successful and the server has returned the expected data. On the other hand, the codes in the 4xx range signify that the request failed because of a client-side error, such as missing or invalid parameters, unauthorized access, or any other fault in the request. The codes in the 5xx range suggest that there\\'s an error on the server side, and the request couldn\\'t be completed due to a server malfunction or connectivity issue. Such errors, fortunately, are infrequent in the service. By following these HTTP response codes, users can easily understand whether their API requests have succeeded or failed, and the probable causes of failure if there are any. If there is an error during the execution, all APIs return a list of errors and a status code `400*`: ```json\\n{ \"errors\": [ { \"id\": \"integer\", \"description\": \"string\" }, ... ]\\n}\\n``` ## Versioning The API versioning strategy is designed to minimize disruptions to your application when backwards-incompatible changes are introduced. Whenever changes are made to the API, a new version is released. This approach allows you to continue using the previous version of the API until you are ready to upgrade to the latest version. It is strongly recommended that you always specify the version number when making API requests to ensure the correct behavior of your application. You can find the latest version number in the documentation or by contacting the support team. By using versioning, you ensure that your application remains stable and functional, while still providing access to the latest API features and functionality. ## Cache control Globant Enterprise AI has a cache control that is enabled by default for APIs ([Chat API](34.html) and [RAG Assistants API](29.html)), but disabled when accessing from the Frontend. In the case of APIs, to take advantage of cached content with CacheHit, the query must be identical in terms of assistantname, version, llmsettings, and prompt. Any modification to these parameters will result in cache invalidation. To control the state of the cache in APIs, the HTTP header is used in requests: - To enable caching: `X-Saia-Cache-Enabled=true`\\n- To disable caching: `X-Saia-Cache-Enabled=false` It is important to note that the cache expires after 7 days.', 'evaluationResultRowContextId': 'a534d896-a118-4879-a2ed-3a5cc9eca887', 'evaluationResultRowContextLink': 'https://wiki.genexus.com/enterprise-ai/wiki?20', 'evaluationResultRowContextPrecision': 0.0}, {'evaluationResultRowContextChunk': \"- Autocomplete assistants\\n- Summarization assistants\\n- Private instance to chat with [LLMs](153.html) ### Testing your assistants Globant Enterprise AI allows you to version all your assistants; this is a great feature that allows you to evolve assistants without breaking things. You need to be aware that programming with non-deterministic agents could be a challenge without help. With Globant Enterprise AI, you can declare different versions of your assistants and start enabling different access to them depending on the consumer. You can create a complete regression test suite with the new version of a new assistant before entering production. Actually, you can match your current staging planning in order to evolve your solution with confidence. ### Access to Globant Enterprise AI Access to the platform's various layers is generally programmable using any programming language. Access is granted via access tokens per project or organization. In addition to programmatic interfaces, you can quickly create Playgrounds to demonstrate AI technology capabilities. If you are already using an integration with OpenAI API with minimal changes, simply update the base URL and Authorization header in your existing OpenAI SDK to set up the route request through [Chat API](34.html). Check the [Ingestion SDK](172.html) if you need to connect to different data-sources. ### See Also [Updates Log](31.html) [Coming Next](30.html) ### Videos ![Globant Enterprise AI Course](./images/197.png) [Globant Enterprise AI Course](https://training.genexus.com/en/learning/courses/artificial-intelligence/globant-enterprise-ai/introduction-to-the-course)\\n\\n# Globant Enterprise AI Overview [Globant Enterprise AI](https://www.genexus.com/en/products/genexus-enterprise-ai) is a business platform designed to facilitate the implementation of AI assistants tailored to your specific needs and areas of expertise. You can create AI Assistants that can integrate and interact with your current operations, processes, systems, and documents, creating new paths of innovation and productivity to explore. One of the great benefits of using Globant Enterprise AI is the ability to select a Large Language Model ([LLM](153.html)) and later switch to another without changing your definitions. Thus, Globant Enterprise AI acts as a secure bridge, connecting enterprise applications to LLMs while providing a variety of tools and features to boost productivity and innovation. Since Globant Enterprise AI is an intermediate layer, anyone who works with it is protected because the data will not be made public or used by the LLMs. To facilitate the integration of LLMs into your workflow, Globant Enterprise AI offers features that enable you to: - Monitor access to LLMs through customized authentication and authorization protocols.\\n- Provide a Web interface with a look and feel that is familiar to LLM users, branded and managed by your organization.\\n- Supervise the costs and interactions associated with each LLM for [streamlined analysis and control](32.html).\\n- [Manage quotas](71.html) per solution to keep your spending in check. In addition, for those looking to integrate AI capabilities into their custom corporate software, Globant Enterprise AI provides the ability to: - Automatically generate [APIs](20.html) and version the assistants and [prompts](85.html) you create using the Chat Assistant.\\n- Optimize your AI exploration by effortlessly switching between different [LLMs](153.html).\\n- Reduce dependency between the AI applications you develop and their underlying LLMs.\\n- Leverage pre-built AI functions like 'Chat with your Documents' and 'Chat with your Data' to accelerate your AI adoption journey. These AI applications, designed to be integrated into production environments, require a set of essential non-functional and functional characteristics for business applications. ### Non-functional Characteristics - Observability\\n- Maintainability, Future Proofing\\n- Security\\n- Scalability\\n- Accountability ### Functional Characteristics - Retrieval Augmented Generation (RAG) for private documentation\\n- Intent-based navigation for existing user interfaces\\n- Assistants for power autocomplete\\n- Definition and chaining of assistants and actuators\\n- Autonomous or semi-autonomous execution agents From a process perspective, it is also crucial to consider development elements such as versioning and testing assistants, and deploying them. Globant Enterprise AI was designed using an architecture of multiple logical layers that can be accessed independently and incrementally. This means you can start by just consuming a particular model, then conceptualize those accesses as assistants, and finally as a use case. ![Globant Enterprise AI Architecture](./images/18.png) ### What problems does Globant Enterprise AI solve with a unique time to market? - Centralized data and cost observability\\n- Development of POCs (Proof Of Concept) or products that quickly “cognify” business, reducing costs or time for a specific business area\\n- Time to market for AI solutions in a safe and scalable manner\\n- Canonical use cases for AI solutions: - Intent-based navigation using [heterogeneous APIs](110.html) and [relational databases](159.html) - [RAG](44.html) - [Data Analyst](89.html) - Autocomplete - Business assistant-based processing conceptualization ### Observability It is essential to understand the information lifecycle and be able to measure various business indicators regarding the use and costs of the AI models being utilized. Business applications need to understand which business domains are using which AI models; check the [backoffice section](42.html). ### Maintainability, Future Proofing AI models are evolving rapidly. Can businesses keep up? Can your interfaces fluctuate and test each model without breaking connection interfaces? How can you become independent of these decisions, often tied to cost, privacy, or other factors? Globant Enterprise AI allows for the independence of created interfaces from the accessed models, enabling agents to evolve with a business perspective, separate from the underlying AI models' evolution. ### Security Businesses require access security, data security, data governance, and alerts for potential rule breaches. Globant Enterprise AI provides everything needed to achieve control over what happens with data within the company, ensuring that data travels securely and adheres to business-imposed rules. ### Scalability Performance should not be degraded by business success. Having infrastructure designed for secure and scalable communication with models is essential when deploying products in production. Using Globant Enterprise AI ensures that if the business succeeds, scalability concerns are addressed. ### Built-in Patterns Solved Globant Enterprise AI provides all the services and abstractions necessary for implementing emerging UX patterns in an [integrated frontend](82.html). It offers the following services: - Chat with any document set, essentially building a private ChatGPT for unstructured company documents (RAG Assistant)\\n- Assistant creation and chaining for various business objectives\\n- Autocomplete assistants\\n- Summarization assistants\", 'evaluationResultRowContextId': 'f1d92e61-9986-4dfd-9a6a-56417fccbfeb', 'evaluationResultRowContextLink': 'https://wiki.genexus.com/enterprise-ai/wiki?15', 'evaluationResultRowContextPrecision': 0.0}, {'evaluationResultRowContextChunk': '# RAG Custom File Format sample Suppose the following manually generated *sample.json.custom* file; using the *country* and *type* metadata elements ```json\\n[ { \"pageContent\": \"Globant Enterprise AI is a business platform designed to facilitate the implementation of AI-Assistants tailored to your specific needs and areas of expertise. You can create AI-Assistants that can integrate and interact with your current operations, processes, systems, and documents, creating new paths of innovation and productivity to explore. One of the great benefits of using Globant Enterprise AI is the ability to select a Large Language Model (LLM) and later switch to another without changing your definitions. Thus, Globant Enterprise AI acts as a secure bridge, connecting enterprise applications to LLMs while providing a variety of tools and features to boost productivity and innovation. Since Globant Enterprise AI is an intermediate layer, anyone who works with it is protected because the data will not be made public or used by the LLMs.\", \"metadata\": { \"name\": \"name\", \"description\": \"GEAI intro chunk 01\", \"source\": \"https://www.genexus.com\", \"country\": \"UY\", \"type\": \"article\" } }, { \"pageContent\": \"Related to gxeai and from a process perspective, it is also crucial to consider development elements such as versioning assistants, testing assistants, and deploying them. Globant Enterprise AI was designed with an architecture of multiple logical layers which can be accessed independently and incrementally. So you can just start by just consuming some particular model, but then conceptualize those accesses as assistants and then as a use case.\", \"metadata\": { \"name\": \"name\", \"description\": \"GEAI perspective chunk 02\", \"source\": \"https://www.genexus.com\", \"country\": \"AR\", \"type\": \"item\" } }, { \"pageContent\": \"Access to the platform\\'s various layers is generally programmable using any programming language. Access is granted via access tokens per project or organization. In addition to programmatic interfaces, you can quickly create Playgrounds for demonstrating AI technology capabilities. If you already are using an integration with OpenAI API with minimal changes, simply update the base URL and Authorization header in your existing OpenAI SDK to setup the route request through Globant Enterprise AI Proxy\", \"metadata\": { \"name\": \"name\", \"description\": \"GEAI access chunk 03\", \"source\": \"https://www.genexus.com\", \"country\": \"BR\", \"type\": \"summary\" } }\\n]\\n``` And using the playground to ask questions, the *Sources* section will use the *description* and source *metadata* elements as follows: ![Image](./images/139.png)', 'evaluationResultRowContextId': 'fead3485-6733-43a2-97da-181d4429cdae', 'evaluationResultRowContextLink': 'https://wiki.genexus.com/enterprise-ai/wiki?138', 'evaluationResultRowContextPrecision': 0.0}], 'dataMetrics': [{'evaluationResultRowMetricFeedback': '', 'evaluationResultRowMetricResult': '', 'evaluationResultRowMetricScore': 0.0, 'systemMetricId': '49a13ebd-371c-4573-a5a2-96ce0875c314'}, {'evaluationResultRowMetricFeedback': '', 'evaluationResultRowMetricResult': '', 'evaluationResultRowMetricScore': 0.85, 'systemMetricId': '5504ac1f-b247-4fe3-8923-20ea61735038'}], 'dataSetRowId': '5c0c1439-7b2a-47b7-b06f-bdbfe428d853', 'evaluationResultRowCost': '0.0007221600', 'evaluationResultRowEndDate': '2025-03-10T14:47:40', 'evaluationResultRowOutput': 'Globant Enterprise AI is a business platform designed to facilitate the implementation of AI assistants tailored to specific needs and areas of expertise. It allows the creation of AI assistants that can integrate and interact with current operations, processes, systems, and documents, providing new paths for innovation and productivity. Key features include the ability to select and switch between different Large Language Models (LLMs) without changing definitions, ensuring data security, and monitoring access to LLMs. The platform provides various tools to help streamline AI adoption, manage spending, and ensure the scalability and maintainability of AI solutions. \\n\\nFor more detailed information, refer to the following context pieces:\\n- [Overview of Globant Enterprise AI](https://wiki.genexus.com/enterprise-ai/wiki?15) \\n- [Key features of Globant Enterprise AI](https://wiki.genexus.com/enterprise-ai/wiki?15) \\n', 'evaluationResultRowStartDate': '2025-03-10T14:47:34', 'evaluationResultRowStatus': 'F'}, {'contexts': [{'evaluationResultRowContextChunk': '# Globant Enterprise AI Backoffice The Globant Enterprise AI Backoffice provides organization administrators with a range of essential options to configure projects and manage key settings. With the Globant Enterprise AI Backoffice, you can easily customize projects, define and test assistants, generate API tokens, manage members, and adjust observability options. When logging in, the first thing you will see is the Dashboard, which provides an overview of the resource usage and costs of the selected project and activities. In the left menu, called Backoffice Menu, you will find two main sections: ![Image](./images/36.png) - Project Options\\n- Organization Options At the top right, there are two important elements: - Project Selector\\n- User Menu ## Project Options In this section, you can manage project-specific configurations. From here, you can manage your Flows, define assistants, perform tests and manage security by generating API tokens. The elements that make up this section are: - [Dashboard](562.html): Provides an overview of the selected project, showing key indicators such as resource usage, total costs, performance metrics, and errors. In addition, it allows you to filter and analyze data by specific dates, assistants and models, with interactive tools such as timeline graphs and configurable pivot tables.\\n- [Assistants](566.html): From this section, you can design assistants for specific tasks according to your business needs. The available options are as follows: - Chat Assistant: Conversational assistants for general interaction. - [API Assistant](110.html): These assistants interact directly with APIs to perform specific tasks. - [Chat with Data Assistant](159.html): These assistants allow you to interact with data sets through conversational queries. - [Data Analyst Assistant](89.html): These are specialized data analysis assistants, which facilitate complex analytical tasks.\\n- [RAG Assistants](44.html): They combine information retrieval from unstructured data with text generation, optimizing tasks such as answering questions and performing contextualized analysis.\\n- [Flows](321.html): They create customized conversational flows to improve interaction with end users by integrating different specialized assistants.\\n- [Playground](349.html): It provides access to an interactive environment where you can view the Frontend of the assistants configured in the Backoffice. This space, instantiated in the selected organization and project, facilitates the testing of assistants in real time and understanding how end users will interact with the defined artificial intelligence models. It also provides an intuitive experience to adjust configurations, optimize interaction flows and ensure that the resources allocated to the project are used efficiently.\\n- [Requests](563.html): It allows monitoring and analyzing the requests made by the assistants, offering a complete traceability that guarantees detailed observability of each interaction.\\n- [API Tokens](564.html): Generation and management of tokens for secure connection to the API.\\n- [Members](253.html): Administration of the users and members of the project.\\n- [Roles](245.html): Configuration of permissions and roles for project members. ## Organization Options This section is focused on the global management of the organization, making it possible to manage all the projects, the users associated with them and the general configurations. It consists of the following elements: - [Projects](565.html): Management of all projects created in the organization.\\n- General Dashboard\\n- Members\\n- [API Tokens](564.html)\\n- Settings ## Project Selector A drop-down menu that allows you to select the project you wish to work on. When the project is changed, the options and data presented on the Dashboard and in the left menu are automatically updated to reflect the information corresponding to the selected project. ## User Menu Next to the project selector is the User Menu represented by a user icon. Clicking on the icon displays a list with the following options: ![Image](./images/605.png) - User Name: Displays the name of the current user.\\n- Language: This option allows you to change the language of the Backoffice. When you select it, a dialog box titled “Change Language” opens, where you can choose between the available languages (e.g. English and Japanese). The dialog box includes two buttons: CHANGE, to confirm the language change, and CANCEL, to discard the action. ![Image](./images/606.png) The selected language will be saved and used automatically the next time you log in. If you access the Playground from the Backoffice, it will be displayed in the same language that you have previously configured in the Backoffice.\\n- Logout: Provides a quick way to log out of the current session.', 'evaluationResultRowContextId': '507df339-1ec4-40f4-8879-cf14936c4bda', 'evaluationResultRowContextLink': 'https://wiki.genexus.com/enterprise-ai/wiki?42', 'evaluationResultRowContextPrecision': 0.0}], 'dataMetrics': [{'evaluationResultRowMetricFeedback': '', 'evaluationResultRowMetricResult': '', 'evaluationResultRowMetricScore': 0.0, 'systemMetricId': '49a13ebd-371c-4573-a5a2-96ce0875c314'}, {'evaluationResultRowMetricFeedback': '', 'evaluationResultRowMetricResult': '', 'evaluationResultRowMetricScore': 0.85, 'systemMetricId': '5504ac1f-b247-4fe3-8923-20ea61735038'}], 'dataSetRowId': '8c2d76b2-37cd-449d-a121-cc5a6ede5325', 'evaluationResultRowCost': '0.0003791900', 'evaluationResultRowEndDate': '2025-03-10T14:47:45', 'evaluationResultRowOutput': 'To use a flow assistant in the Globant Enterprise AI Backoffice, follow these general steps:\\n\\n1. **Access the Flows Section**: Navigate to the Flows option in the Project Options section of the Backoffice. This is where you can create and manage your customized conversational flows.\\n\\n2. **Create a Flow**: Design the flow according to your specific requirements. You can integrate various specialized assistants into this flow to improve user interaction.\\n\\n3. **Test the Flow**: Use the Playground feature to view the Frontend of the configured assistants in real time. This allows you to test the flow and understand how end users will interact with the defined AI models.\\n\\n4. **Optimize Interaction**: Make adjustments to the configurations and optimize the interaction flows based on the testing feedback to ensure efficient use of resources and a seamless user experience.\\n\\n5. **Monitor Interactions**: Once the flow is deployed, you can monitor and analyze the requests through the Requests section to ensure detailed observability of each interaction.\\n\\nFor further detailed instructions on flows, you may refer to the relevant documentation in the mentioned page. This explanation is primarily derived from the [Globant Enterprise AI Backoffice](https://wiki.genexus.com/enterprise-ai/wiki?42) documentation.', 'evaluationResultRowStartDate': '2025-03-10T14:47:40', 'evaluationResultRowStatus': 'F'}, {'contexts': [{'evaluationResultRowContextChunk': '# Chat with Data Assistant Use Guidelines This document is intended to provide guidelines on how to ask questions to get information that was ingested in a particular [Chat with Data Assistant](159.html). ## General Considerations ### Use Natural Language Type your question naturally just like you would ask a colleague for information. It doesn\\'t matter if you make spelling mistakes or use different synonyms. It is important to convey your intention to the assistant correctly. For example, suppose you have a database with information about continents/countries and want to get the list of continents together with the number of countries in each one. In this case, your query can be formulated in one of the following ways: - Number of countries per continent.\\n- How many countries are there in each continent?\\n- Give me the list of continents with the number of countries in each continent. ### Iterate and refine your questions It is not necessary to repeat all the previous information, as this is inferred from the conversation. For example, if you previously asked \"How many countries are there in each continent?\", you can follow up with \"Only those with more than 50 countries\". In this way, the assistant will understand that you want the list of continents and the number of countries for each one, but limited to those with more than 50 countries in total. Remember that with each new question, you can add more details or change the focus as needed. ## Questions that the Assistant can answer The assistant is designed to provide answers from the database and also from the database metadata. When a question is asked, the assistant first determines whether it is necessary to access the database to return the answer. If the question is about metadata (and therefore it isn\\'t necessary to access the database to look for data), it can be answered using natural language. On the other hand, if the question requires access to the database, the assistant builds a Query and the possible [Output Formats](181.html) are Table, PivotTable, Chart or Card (no free text). ### Examples of metadata queries - What can I ask about?\\n- What entities are available?\\n- Can you suggest some questions I could ask? ### Examples of data queries - Show the top 10 countries by GDP per capita.\\n- Number of patients by continent.\\n- List the top 10 countries with the highest population. ## Questions that the Assistant can\\'t answer There are certain types of queries that the assistant will not be able to answer, or whose answer may not be as expected. ### Information not contained in the database If the requested information is not in the database, the assistant will not be able to provide an answer. For example, if the database is only about continents/countries: **Question:** Total exports in the last year. **Answer:** The answer is not found in the entities provided because there is no entity or attribute related to export data or economic transactions. ### Concepts not represented in the database The assistant does not have information about the concepts handled in the organization but not included in the database. **Do:** Number of students promoted on the 05/01/2024 exam. **Don\\'t:** Number of students with a grade higher than 6 on the 05/01/2024 exam. ### Calculations or Formulas It is not possible to request calculations based on known formulas referenced by name. For example, requesting the Human Development Index for a country will not work, even if the elements to calculate it are in the database. ### Predictions The assistant can only provide information based on the current data contained in the database. It cannot make predictions unless they are specifically recorded in a database table.', 'evaluationResultRowContextId': 'b34efefc-8479-44c7-975c-a5fba4188fa5', 'evaluationResultRowContextLink': 'https://wiki.genexus.com/enterprise-ai/wiki?177', 'evaluationResultRowContextPrecision': 0.0}, {'evaluationResultRowContextChunk': '# Chat with Data Assistant Chat with Data Assistant is a key component of [Globant Enterprise AI](15.html), designed to facilitate the interaction between end users and the database. This innovative assistant uses artificial intelligence to simplify the data query and retrieval process from any relational database that is in third normal form. End users can send queries in natural language directly from the [Frontend](82.html), without the need to access the database directly. This significantly streamlines the information search process, offering a more intuitive and efficient experience. One of the outstanding features of Chat with Data Assistant is its ability to create, edit, and delete queries directly from the **Frontend**. This provides end users with quick and easy access to the information stored in the database, without the need for additional tools. # [Creation and configuration of the assistant](#Creation+and+configuration+of+the+assistant) To create and configure the Chat with Data Assistant, access the [Globant Enterprise AI Backoffice](42.html), and upload the necessary metadata in a file with an **.export** extension. Next, configure the database connection options. It is important to select from the DBMS supported by Globant Enterprise AI. Currently, this list includes SQL Server, MySQL, PostgreSQL, Oracle, and SAP Hana (DB2 for iSeries, DB2 Universal Database, and Informix coming soon). Once the assistant is configured, you can go to the **Frontend** and select the Chat with Data Assistant that you have just created. From now on, you will be able to make queries using natural language, which significantly speeds up the data search and retrieval process. > **Note**: For the proper use of this assistant in a SaaS solution, the database must be accessible via the internet, and the required ADO.NET drivers must be installed to establish the connection. For more details: [How to use Chat with Data Assistant](170.html)', 'evaluationResultRowContextId': 'db9d771f-8b41-4cc0-9014-a8fa20b6a095', 'evaluationResultRowContextLink': 'https://wiki.genexus.com/enterprise-ai/wiki?159', 'evaluationResultRowContextPrecision': 0.0}], 'dataMetrics': [{'evaluationResultRowMetricFeedback': '', 'evaluationResultRowMetricResult': '', 'evaluationResultRowMetricScore': 0.0, 'systemMetricId': '49a13ebd-371c-4573-a5a2-96ce0875c314'}, {'evaluationResultRowMetricFeedback': '', 'evaluationResultRowMetricResult': '', 'evaluationResultRowMetricScore': 0.9, 'systemMetricId': '5504ac1f-b247-4fe3-8923-20ea61735038'}], 'dataSetRowId': 'cda39ec9-6aa1-4b65-8ba3-322305685bba', 'evaluationResultRowCost': '0.0003933700', 'evaluationResultRowEndDate': '2025-03-10T14:47:54', 'evaluationResultRowOutput': \"To get started with the Chat with Data Assistant, you need to follow these steps:\\n\\n1. **Access the Globant Enterprise AI Backoffice**: This is where you will be able to create and configure your assistant.\\n   \\n2. **Upload Metadata**: You should upload the necessary metadata in a file with an `.export` extension.\\n\\n3. **Configure Database Connection**: Select the database management system (DBMS) supported by Globant Enterprise AI. Currently, the options include SQL Server, MySQL, PostgreSQL, Oracle, and SAP Hana. It's essential that the database is accessible via the internet, and the required ADO.NET drivers must be installed for establishing the connection.\\n\\n4. **Use the Frontend**: After configuring the assistant, go to the Frontend and select the Chat with Data Assistant you just created. You will then be able to make queries using natural language.\\n\\nThis process significantly simplifies data searches and retrieval from the database without needing additional tools [2](https://wiki.genexus.com/enterprise-ai/wiki?159).\", 'evaluationResultRowStartDate': '2025-03-10T14:47:45', 'evaluationResultRowStatus': 'F'}]}\n"
     ]
    }
   ],
   "source": [
    "# Service URL\n",
    "url = f\"{global_url}/evaluationResultApi/evaluationResult/{global_evaluation_result_id}\"\n",
    "\n",
    "try:\n",
    "    # Make the GET request\n",
    "    response = requests.get(url, headers=headers, verify=False)\n",
    "\n",
    "    # Check if the request was successful\n",
    "    if response.status_code == 200:\n",
    "        print(\"Service response:\")\n",
    "        print(response.json())  # If the response is in JSON format\n",
    "    else:\n",
    "        print(f\"Request error: {response.status_code}\")\n",
    "        print(response.text)  # Displays the response content in case of an error\n",
    "\n",
    "except requests.exceptions.RequestException as e:\n",
    "    print(f\"Error connecting to the service: {e}\")"
   ]
  },
  {
   "cell_type": "code",
   "execution_count": null,
   "id": "ca44396e",
   "metadata": {},
   "outputs": [],
   "source": []
  }
 ],
 "metadata": {
  "colab": {
   "provenance": []
  },
  "kernelspec": {
   "display_name": ".venv",
   "language": "python",
   "name": "python3"
  },
  "language_info": {
   "codemirror_mode": {
    "name": "ipython",
    "version": 3
   },
   "file_extension": ".py",
   "mimetype": "text/x-python",
   "name": "python",
   "nbconvert_exporter": "python",
   "pygments_lexer": "ipython3",
   "version": "3.10.11"
  }
 },
 "nbformat": 4,
 "nbformat_minor": 5
}
