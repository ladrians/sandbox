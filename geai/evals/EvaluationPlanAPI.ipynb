{
  "cells": [
    {
      "cell_type": "markdown",
      "id": "D2r7q3KQGkMN",
      "metadata": {
        "id": "D2r7q3KQGkMN"
      },
      "source": [
        "This guide explains how to use the Evaluation Plan API to manage evaluation plans, specifically focusing on [Chat Assistant](https://wiki.genexus.com/enterprise-ai/wiki?708,Chat+Assistant). You'll find examples for each endpoint, demonstrating how to interact with the API using Python."
      ]
    },
    {
      "cell_type": "markdown",
      "id": "38f2a044-ef96-4bf7-9626-ddbb24dbfdc2",
      "metadata": {
        "id": "38f2a044-ef96-4bf7-9626-ddbb24dbfdc2"
      },
      "source": [
        "# Initialization"
      ]
    },
    {
      "cell_type": "markdown",
      "id": "hwt1X7GSHWL7",
      "metadata": {
        "id": "hwt1X7GSHWL7"
      },
      "source": [
        "Before you begin, set up your environment with the necessary parameters:\n",
        "\n",
        "Set the `$BASE_URL`, `$SAIA_PROJECT_APITOKEN`, dataset `Id`, and system metric `Id`:\n",
        "\n",
        "* `global_url`:  Set this to the URL of your Globant Enterprise AI environment (e.g., \"https://eval-api.saia.ai\"). This is represented by the `$BASE_URL` variable.\n",
        "\n",
        "* `global_token`:  Provide your organization's API token, represented by the `$SAIA_PROJECT_APITOKEN` variable.\n",
        "\n",
        "* `global_data_set_id`:  Specify the `Id` of the dataset you want to use in your evaluation plan.\n",
        "\n",
        "* `global_data_set_id`:  Specify the `Id` of the dataset you want to use in your evaluation plan.\n",
        "\n",
        "* `global_system_metric_id`:  Set the `Id` of the system metric you want to evaluate in your evaluation plan."
      ]
    },
    {
      "cell_type": "code",
      "execution_count": 1,
      "id": "3217a465-b43a-408d-973f-591780ac170f",
      "metadata": {
        "id": "3217a465-b43a-408d-973f-591780ac170f"
      },
      "outputs": [],
      "source": [
        "global_url = \"https://eval-api.saia.ai\"  # Example: \"https://eval-api.saia.ai\" ($BASE_URL)\n",
        "global_token = \"geai_-NfFwi7jgdkGA6VAP0gR4ZtQyiaXKHgpQu5moZtCF_3enyAqsAKXDFMEXmv0vfrtuLipPjKSlArvyKJpZ0_9yg\"  # Your organization's API token ($SAIA_PROJECT_APITOKEN)\n",
        "global_data_set_id = \"e2057ff6-4b34-45ea-a464-8e51474c2c63\"  # ID of the dataset to use\n",
        "global_system_metric_id = \"7187d325-8b91-4ebb-b933-f3d85cc7af2b\"  # ID of the system metric to evaluate\n",
        "\n",
        "\n",
        "import requests\n",
        "import urllib3\n",
        "import json\n",
        "\n",
        "urllib3.disable_warnings(urllib3.exceptions.InsecureRequestWarning)\n",
        "\n",
        "headers = {\n",
        "    \"Content-Type\": \"application/json\",\n",
        "    \"Authorization\": f\"Bearer {global_token}\"\n",
        "}"
      ]
    },
    {
      "cell_type": "markdown",
      "id": "7fd32309-93c8-4299-a6c4-7a396cfa40ee",
      "metadata": {
        "id": "7fd32309-93c8-4299-a6c4-7a396cfa40ee"
      },
      "source": [
        "# Working with Evaluation Plans"
      ]
    },
    {
      "cell_type": "markdown",
      "id": "60f22e79-834b-4939-989e-610124cb57a3",
      "metadata": {
        "id": "60f22e79-834b-4939-989e-610124cb57a3"
      },
      "source": [
        "## Listing Evaluation Plans"
      ]
    },
    {
      "cell_type": "markdown",
      "id": "Hy1obm4EI3DD",
      "metadata": {
        "id": "Hy1obm4EI3DD"
      },
      "source": [
        "This endpoint retrieves a list of all evaluation plans."
      ]
    },
    {
      "cell_type": "code",
      "execution_count": 2,
      "id": "f2d9b585-45fb-4048-8c46-519c86b23083",
      "metadata": {
        "id": "f2d9b585-45fb-4048-8c46-519c86b23083",
        "scrolled": true
      },
      "outputs": [
        {
          "name": "stdout",
          "output_type": "stream",
          "text": [
            "Service response:\n",
            "[]\n"
          ]
        }
      ],
      "source": [
        "# Service URL\n",
        "url = f\"{global_url}/evaluationPlanApi/evaluationPlans\"\n",
        "\n",
        "try:\n",
        "    # Make the GET request\n",
        "    response = requests.get(url, headers=headers, verify=False)\n",
        "\n",
        "    # Check if the request was successful\n",
        "    if response.status_code == 200:\n",
        "        print(\"Service response:\")\n",
        "        print(response.json())  # If the response is in JSON format\n",
        "    else:\n",
        "        print(f\"Request error: {response.status_code}\")\n",
        "        print(response.text)\n",
        "\n",
        "except requests.exceptions.RequestException as e:\n",
        "    print(f\"Error connecting to the service: {e}\")"
      ]
    },
    {
      "cell_type": "markdown",
      "id": "3c5497bf-d10a-47f9-a078-51081845e42c",
      "metadata": {
        "id": "3c5497bf-d10a-47f9-a078-51081845e42c"
      },
      "source": [
        "## Creating an Evaluation Plan"
      ]
    },
    {
      "cell_type": "markdown",
      "id": "KoYonzP0I79C",
      "metadata": {
        "id": "KoYonzP0I79C"
      },
      "source": [
        "This endpoint creates a new evaluation plan."
      ]
    },
    {
      "cell_type": "code",
      "execution_count": 3,
      "id": "bda42e74-754e-4e4a-a69e-dbd3722b0793",
      "metadata": {
        "id": "bda42e74-754e-4e4a-a69e-dbd3722b0793"
      },
      "outputs": [
        {
          "name": "stdout",
          "output_type": "stream",
          "text": [
            "Request error: 404\n",
            "{\"errors\":[{\"description\":\"No results found\",\"id\":5000}]}\n"
          ]
        }
      ],
      "source": [
        "# Service URL\n",
        "url = f\"{global_url}/evaluationPlanApi/evaluationPlan\"\n",
        "\n",
        "# JSON data to be sent in the request body\n",
        "payload = {\n",
        "  \"evaluationPlanName\": \"Plan_A\",\n",
        "  \"evaluationPlanType\": \"TextPromptAssistant\",\n",
        "  \"evaluationPlanAssistantId\": \"2192c746-bec7-4c98-aa44-fd7bb6eafc63\",\n",
        "  \"evaluationPlanAssistantName\": \"CountLetterA\",\n",
        "  \"evaluationPlanAssistantRevision\": \"1\",\n",
        "  \"evaluationPlanProfileName\": \"\",\n",
        "  \"dataSetId\": global_data_set_id,\n",
        "  \"systemMetrics\": [\n",
        "    {\n",
        "      \"systemMetricId\": global_system_metric_id,\n",
        "      \"systemMetricWeight\": \"1\"\n",
        "    }\n",
        "  ]\n",
        "}\n",
        "\n",
        "# Make the POST request\n",
        "try:\n",
        "    response = requests.post(url, json=payload, headers=headers, verify=False)\n",
        "\n",
        "    # Check the response status code\n",
        "    if response.status_code == 200:\n",
        "        print(\"Request successful. Server response:\")\n",
        "        print(json.dumps(response.json(), indent=4))  # Print the response in JSON format\n",
        "\n",
        "        # Load the JSON response\n",
        "        response_data = response.json()\n",
        "\n",
        "        # Extract the evaluationPlanId\n",
        "        evaluation_plan_id = response_data.get(\"evaluationPlanId\")\n",
        "\n",
        "        # Save it in a global variable or file\n",
        "        # Global variable\n",
        "        global_evaluation_plan_id = evaluation_plan_id  # This will be available in the Notebook\n",
        "\n",
        "    else:\n",
        "        print(f\"Request error: {response.status_code}\")\n",
        "        print(response.text)\n",
        "\n",
        "except requests.exceptions.RequestException as e:\n",
        "    print(f\"Error connecting to the service: {e}\")"
      ]
    },
    {
      "cell_type": "markdown",
      "id": "86138276-5589-46c0-8c19-b351019cfee0",
      "metadata": {
        "id": "86138276-5589-46c0-8c19-b351019cfee0"
      },
      "source": [
        "## Retrieving an Evaluation Plan"
      ]
    },
    {
      "cell_type": "markdown",
      "id": "ADkRiW8LJC5M",
      "metadata": {
        "id": "ADkRiW8LJC5M"
      },
      "source": [
        "This endpoint retrieves a specific evaluation plan by its `Id`."
      ]
    },
    {
      "cell_type": "code",
      "execution_count": null,
      "id": "4c97b63c-9085-4f24-a8c7-cfde15aef989",
      "metadata": {
        "id": "4c97b63c-9085-4f24-a8c7-cfde15aef989"
      },
      "outputs": [],
      "source": [
        "# Service URL\n",
        "url = f\"{global_url}/evaluationPlanApi/evaluationPlan/{global_evaluation_plan_id}\"\n",
        "\n",
        "try:\n",
        "    # Make the GET request\n",
        "    response = requests.get(url, headers=headers, verify=False)\n",
        "\n",
        "    # Check if the request was successful\n",
        "    if response.status_code == 200:\n",
        "        print(\"Service response:\")\n",
        "        print(response.json())  # If the response is in JSON format\n",
        "    else:\n",
        "        print(f\"Request error: {response.status_code}\")\n",
        "        print(response.text)\n",
        "\n",
        "except requests.exceptions.RequestException as e:\n",
        "    print(f\"Error connecting to the service: {e}\")"
      ]
    },
    {
      "cell_type": "markdown",
      "id": "93710adf-5ffe-4adb-9523-67d09475ca23",
      "metadata": {
        "id": "93710adf-5ffe-4adb-9523-67d09475ca23"
      },
      "source": [
        "## Updating an Evaluation Plan"
      ]
    },
    {
      "cell_type": "markdown",
      "id": "wkYRM3LpJJea",
      "metadata": {
        "id": "wkYRM3LpJJea"
      },
      "source": [
        "This endpoint updates an existing evaluation plan."
      ]
    },
    {
      "cell_type": "code",
      "execution_count": null,
      "id": "3dcc43ad-7d0c-429f-94da-38af09adbe57",
      "metadata": {
        "id": "3dcc43ad-7d0c-429f-94da-38af09adbe57"
      },
      "outputs": [],
      "source": [
        "# Service URL\n",
        "url = f\"{global_url}/evaluationPlanApi/evaluationPlan/{global_evaluation_plan_id}\"\n",
        "\n",
        "# JSON data to be sent in the request body\n",
        "payload = {\n",
        "  \"evaluationPlanName\": \"Test_B\",\n",
        "  \"evaluationPlanType\": \"RAG Assistant\",\n",
        "  \"evaluationPlanAssistantId\": \"\",\n",
        "  \"evaluationPlanAssistantName\": \"\",\n",
        "  \"evaluationPlanAssistantRevision\": \"\",\n",
        "  \"evaluationPlanProfileName\": \"Test_B\"\n",
        "}\n",
        "\n",
        "# Make the PUT request\n",
        "try:\n",
        "    response = requests.put(url, json=payload, headers=headers, verify=False)\n",
        "\n",
        "    # Check the response status code\n",
        "    if response.status_code == 200:\n",
        "        print(\"Request successful. Server response:\")\n",
        "        print(json.dumps(response.json(), indent=4))  # Print the response in JSON format\n",
        "    else:\n",
        "        print(f\"Request error: {response.status_code}\")\n",
        "        print(response.text)\n",
        "\n",
        "except requests.exceptions.RequestException as e:\n",
        "    print(f\"Error connecting to the service: {e}\")"
      ]
    },
    {
      "cell_type": "markdown",
      "id": "304cce2b-1f8b-47c5-bcbd-aa4d52c7e041",
      "metadata": {
        "id": "304cce2b-1f8b-47c5-bcbd-aa4d52c7e041"
      },
      "source": [
        "## Deleting an Evaluation Plan"
      ]
    },
    {
      "cell_type": "markdown",
      "id": "W1oX04nUJO6S",
      "metadata": {
        "id": "W1oX04nUJO6S"
      },
      "source": [
        "This endpoint deletes an evaluation plan."
      ]
    },
    {
      "cell_type": "code",
      "execution_count": null,
      "id": "c461406c-bcd4-4267-8fb4-36e523306b4c",
      "metadata": {
        "id": "c461406c-bcd4-4267-8fb4-36e523306b4c"
      },
      "outputs": [],
      "source": [
        "# Service URL\n",
        "url = f\"{global_url}/evaluationPlanApi/evaluationPlan/{global_evaluation_plan_id}\"\n",
        "\n",
        "try:\n",
        "    # Make the DELETE request\n",
        "    response = requests.delete(url, headers=headers, verify=False)\n",
        "\n",
        "    # Check if the request was successful\n",
        "    if response.status_code == 200:\n",
        "        print(\"Service response:\")\n",
        "        print(response.json())  # If the response is in JSON format\n",
        "    else:\n",
        "        print(f\"Request error: {response.status_code}\")\n",
        "        print(response.text)\n",
        "\n",
        "except requests.exceptions.RequestException as e:\n",
        "    print(f\"Error connecting to the service: {e}\")"
      ]
    },
    {
      "cell_type": "markdown",
      "id": "0fb64989-38e1-439c-8d28-15272b724f77",
      "metadata": {
        "id": "0fb64989-38e1-439c-8d28-15272b724f77"
      },
      "source": [
        "# Working with Evaluation Plan System Metrics"
      ]
    },
    {
      "cell_type": "markdown",
      "id": "EvLocxtOJTHC",
      "metadata": {
        "id": "EvLocxtOJTHC"
      },
      "source": [
        "The Evaluation Plan API also provides endpoints for managing the system metrics associated with an evaluation plan. These endpoints allow you to:\n",
        "\n",
        "* List the system metrics associated with a specific evaluation plan.\n",
        "* Add a system metric to an evaluation plan.\n",
        "* Retrieve, update, and delete a specific system metric from an evaluation plan.\n",
        "\n",
        "The following endpoints are available:"
      ]
    },
    {
      "cell_type": "markdown",
      "id": "29a640c4-44b6-40de-aa54-f1852e994b60",
      "metadata": {
        "id": "29a640c4-44b6-40de-aa54-f1852e994b60"
      },
      "source": [
        "## Listing Evaluation Plan System Metrics"
      ]
    },
    {
      "cell_type": "markdown",
      "id": "lv3w7TcQl3l5",
      "metadata": {
        "id": "lv3w7TcQl3l5"
      },
      "source": [
        "This endpoint retrieves a list of all system metrics associated with a specific evaluation plan."
      ]
    },
    {
      "cell_type": "code",
      "execution_count": null,
      "id": "82c206b5-4f75-4ae9-a727-2726eeeeb3d4",
      "metadata": {
        "id": "82c206b5-4f75-4ae9-a727-2726eeeeb3d4"
      },
      "outputs": [],
      "source": [
        "# Service URL\n",
        "url = f\"{global_url}/evaluationPlanApi/evaluationPlan/{global_evaluation_plan_id}/evaluationPlanSystemMetrics\"\n",
        "\n",
        "try:\n",
        "    # Make the GET request\n",
        "    response = requests.get(url, headers=headers, verify=False)\n",
        "\n",
        "    # Check if the request was successful\n",
        "    if response.status_code == 200:\n",
        "        print(\"Service response:\")\n",
        "        print(response.json())  # If the response is in JSON format\n",
        "    else:\n",
        "        print(f\"Request error: {response.status_code}\")\n",
        "        print(response.text)\n",
        "\n",
        "except requests.exceptions.RequestException as e:\n",
        "    print(f\"Error connecting to the service: {e}\")"
      ]
    },
    {
      "cell_type": "markdown",
      "id": "530cdbbe-a3d2-400b-87fb-4c08529efd88",
      "metadata": {
        "id": "530cdbbe-a3d2-400b-87fb-4c08529efd88"
      },
      "source": [
        "## Adding an Evaluation Plan System Metric"
      ]
    },
    {
      "cell_type": "markdown",
      "id": "w6JXitmCmKRo",
      "metadata": {
        "id": "w6JXitmCmKRo"
      },
      "source": [
        "This endpoint allows you to add a system metric to an evaluation plan. However, before you can add a system metric, you need to have an evaluation plan created. This process involves two steps:"
      ]
    },
    {
      "cell_type": "markdown",
      "id": "4884b6a0-c525-4fd0-8c8f-c7adf623c94b",
      "metadata": {
        "id": "4884b6a0-c525-4fd0-8c8f-c7adf623c94b"
      },
      "source": [
        "### Creating an Evaluation Plan"
      ]
    },
    {
      "cell_type": "markdown",
      "id": "UJpzbeKaoUJv",
      "metadata": {
        "id": "UJpzbeKaoUJv"
      },
      "source": [
        "You can create an evaluation plan without specifying any system metrics. You will add the system metric in the next step."
      ]
    },
    {
      "cell_type": "code",
      "execution_count": null,
      "id": "8c09aa9b-949e-4311-beee-fc1bdde3fdb8",
      "metadata": {
        "id": "8c09aa9b-949e-4311-beee-fc1bdde3fdb8"
      },
      "outputs": [],
      "source": [
        "# Service URL\n",
        "url = f\"{global_url}/evaluationPlanApi/evaluationPlan\"\n",
        "\n",
        "# JSON data to be sent in the request body\n",
        "payload = {\n",
        "  \"evaluationPlanName\": \"Plan_A\",\n",
        "  \"evaluationPlanType\": \"TextPromptAssistant\",\n",
        "  \"evaluationPlanAssistantId\": \"1fcfac60-90fb-494b-bed1-f8c0bb684a44\",\n",
        "  \"evaluationPlanAssistantName\": \"Assistant_A\",\n",
        "  \"evaluationPlanAssistantRevision\": \"1.0\",\n",
        "  \"evaluationPlanProfileName\": \"\",\n",
        "  \"dataSetId\": global_data_set_id,\n",
        "  \"systemMetrics\": [\n",
        "  ]\n",
        "}\n",
        "\n",
        "# Make the POST request\n",
        "try:\n",
        "    response = requests.post(url, json=payload, headers=headers, verify=False)\n",
        "\n",
        "    # Check the response status code\n",
        "    if response.status_code == 200:\n",
        "        print(\"Request successful. Server response:\")\n",
        "        print(json.dumps(response.json(), indent=4))  # Print the response in JSON format\n",
        "\n",
        "        # Load the JSON response\n",
        "        response_data = response.json()\n",
        "\n",
        "        # Extract the evaluationPlanId\n",
        "        evaluation_plan_id = response_data.get(\"evaluationPlanId\")\n",
        "\n",
        "        # Save it in a global variable or file\n",
        "        # Global variable\n",
        "        global_evaluation_plan_id = evaluation_plan_id  # This will be available in the Notebook\n",
        "\n",
        "    else:\n",
        "        print(f\"Request error: {response.status_code}\")\n",
        "        print(response.text)\n",
        "\n",
        "except requests.exceptions.RequestException as e:\n",
        "    print(f\"Error connecting to the service: {e}\")"
      ]
    },
    {
      "cell_type": "markdown",
      "id": "bcdfe9dc-2829-41e0-bcb8-ef7c8cdc3823",
      "metadata": {
        "id": "bcdfe9dc-2829-41e0-bcb8-ef7c8cdc3823"
      },
      "source": [
        "### Adding the System Metric"
      ]
    },
    {
      "cell_type": "markdown",
      "id": "0m6vi5raonH9",
      "metadata": {
        "id": "0m6vi5raonH9"
      },
      "source": [
        "Once you have created the evaluation plan and obtained its `Id`(`global_evaluation_plan_id`), you can add the system metric."
      ]
    },
    {
      "cell_type": "code",
      "execution_count": null,
      "id": "fa6d7d61-5725-43a0-9037-4b8968ceb6bc",
      "metadata": {
        "id": "fa6d7d61-5725-43a0-9037-4b8968ceb6bc"
      },
      "outputs": [],
      "source": [
        "# Service URL\n",
        "url = f\"{global_url}/evaluationPlanApi/evaluationPlan/{global_evaluation_plan_id}/evaluationPlanSystemMetric\"\n",
        "\n",
        "# JSON data to be sent in the request body\n",
        "payload = {\n",
        "      \"systemMetricId\": global_system_metric_id,\n",
        "      \"systemMetricWeight\": \"0.5\"\n",
        "    }\n",
        "\n",
        "# Make the POST request\n",
        "try:\n",
        "    response = requests.post(url, json=payload, headers=headers, verify=False)\n",
        "\n",
        "    # Check the response status code\n",
        "    if response.status_code == 200:\n",
        "        print(\"Request successful. Server response:\")\n",
        "        print(json.dumps(response.json(), indent=4))  # Print the response in JSON format\n",
        "\n",
        "    else:\n",
        "        print(f\"Request error: {response.status_code}\")\n",
        "        print(response.text)\n",
        "\n",
        "except requests.exceptions.RequestException as e:\n",
        "    print(f\"Error connecting to the service: {e}\")"
      ]
    },
    {
      "cell_type": "markdown",
      "id": "2fd106bd-f679-4561-bee0-cf24a67c5ab2",
      "metadata": {
        "id": "2fd106bd-f679-4561-bee0-cf24a67c5ab2"
      },
      "source": [
        "## Retrieving an Evaluation Plan System Metric"
      ]
    },
    {
      "cell_type": "markdown",
      "id": "Ue1u5B-Zniuw",
      "metadata": {
        "id": "Ue1u5B-Zniuw"
      },
      "source": [
        "This endpoint retrieves a specific system metric associated with an evaluation plan."
      ]
    },
    {
      "cell_type": "code",
      "execution_count": null,
      "id": "a38a2f9a-8885-4237-b272-a32431e9d416",
      "metadata": {
        "id": "a38a2f9a-8885-4237-b272-a32431e9d416"
      },
      "outputs": [],
      "source": [
        "# Service URL\n",
        "url = f\"{global_url}/evaluationPlanApi/evaluationPlan/{global_evaluation_plan_id}/evaluationPlanSystemMetric/{global_system_metric_id}\"\n",
        "\n",
        "try:\n",
        "    # Make the GET request\n",
        "    response = requests.get(url, headers=headers, verify=False)\n",
        "\n",
        "    # Check if the request was successful\n",
        "    if response.status_code == 200:\n",
        "        print(\"Service response:\")\n",
        "        print(response.json())  # If the response is in JSON format\n",
        "    else:\n",
        "        print(f\"Request error: {response.status_code}\")\n",
        "        print(response.text)\n",
        "\n",
        "except requests.exceptions.RequestException as e:\n",
        "    print(f\"Error connecting to the service: {e}\")"
      ]
    },
    {
      "cell_type": "markdown",
      "id": "b82be9f3-56d6-4da7-a3d7-284e2aba43e6",
      "metadata": {
        "id": "b82be9f3-56d6-4da7-a3d7-284e2aba43e6"
      },
      "source": [
        "## Updating an Evaluation Plan System Metric"
      ]
    },
    {
      "cell_type": "markdown",
      "id": "nPwVqbp5nnNG",
      "metadata": {
        "id": "nPwVqbp5nnNG"
      },
      "source": [
        "This endpoint updates an existing system metric associated with an evaluation plan."
      ]
    },
    {
      "cell_type": "code",
      "execution_count": null,
      "id": "454e3d7f-fa7d-4623-98fb-e3b5abba0b5f",
      "metadata": {
        "id": "454e3d7f-fa7d-4623-98fb-e3b5abba0b5f"
      },
      "outputs": [],
      "source": [
        "# Service URL\n",
        "url = f\"{global_url}/evaluationPlanApi/evaluationPlan/{global_evaluation_plan_id}/evaluationPlanSystemMetric/{global_system_metric_id}\"\n",
        "\n",
        "# JSON data to be sent in the request body\n",
        "payload = {\n",
        "      \"systemMetricWeight\": \"1\"\n",
        "}\n",
        "\n",
        "# Make the PUT request\n",
        "try:\n",
        "    response = requests.put(url, json=payload, headers=headers, verify=False)\n",
        "\n",
        "    # Check the response status code\n",
        "    if response.status_code == 200:\n",
        "        print(\"Request successful. Server response:\")\n",
        "        print(json.dumps(response.json(), indent=4))  # Print the response in JSON format\n",
        "    else:\n",
        "        print(f\"Request error: {response.status_code}\")\n",
        "        print(response.text)\n",
        "\n",
        "except requests.exceptions.RequestException as e:\n",
        "    print(f\"Error connecting to the service: {e}\")"
      ]
    },
    {
      "cell_type": "markdown",
      "id": "892ef4ff-004e-4ce9-88f0-501dc40b5a86",
      "metadata": {
        "id": "892ef4ff-004e-4ce9-88f0-501dc40b5a86"
      },
      "source": [
        "## Deleting an Evaluation Plan System Metric"
      ]
    },
    {
      "cell_type": "markdown",
      "id": "maCPQbSknrkW",
      "metadata": {
        "id": "maCPQbSknrkW"
      },
      "source": [
        "This endpoint removes a system metric from an evaluation plan."
      ]
    },
    {
      "cell_type": "code",
      "execution_count": null,
      "id": "e6556b49-3487-46b2-8e34-2ae1ec8affb9",
      "metadata": {
        "id": "e6556b49-3487-46b2-8e34-2ae1ec8affb9"
      },
      "outputs": [],
      "source": [
        "# Service URL\n",
        "url = f\"{global_url}/evaluationPlanApi/evaluationPlan/{global_evaluation_plan_id}/evaluationPlanSystemMetric/{global_system_metric_id}\"\n",
        "\n",
        "try:\n",
        "    # Make the DELETE request\n",
        "    response = requests.delete(url, headers=headers, verify=False)\n",
        "\n",
        "    # Check if the request was successful\n",
        "    if response.status_code == 200:\n",
        "        print(\"Service response:\")\n",
        "        print(response.json())  # If the response is in JSON format\n",
        "    else:\n",
        "        print(f\"Request error: {response.status_code}\")\n",
        "        print(response.text)\n",
        "\n",
        "except requests.exceptions.RequestException as e:\n",
        "    print(f\"Error connecting to the service: {e}\")"
      ]
    },
    {
      "cell_type": "markdown",
      "id": "a5ff8e5d-8388-402e-a960-8634bdd38aad",
      "metadata": {
        "id": "a5ff8e5d-8388-402e-a960-8634bdd38aad"
      },
      "source": [
        "# Working with System Metrics"
      ]
    },
    {
      "cell_type": "markdown",
      "id": "Ihkd7uQNhRx8",
      "metadata": {
        "id": "Ihkd7uQNhRx8"
      },
      "source": [
        "You can use the Evaluation Plan API to retrieve information about available system metrics. The following endpoints are available:"
      ]
    },
    {
      "cell_type": "markdown",
      "id": "8d37b49b-80dd-4c81-83a7-b2386ea3732b",
      "metadata": {
        "id": "8d37b49b-80dd-4c81-83a7-b2386ea3732b"
      },
      "source": [
        "## Listing System Metrics"
      ]
    },
    {
      "cell_type": "markdown",
      "id": "q8ZG5fS6hW3i",
      "metadata": {
        "id": "q8ZG5fS6hW3i"
      },
      "source": [
        "This endpoint retrieves a list of all available system metrics."
      ]
    },
    {
      "cell_type": "code",
      "execution_count": null,
      "id": "7bf15fed-0c0f-4fba-99ca-e6828f46e1f4",
      "metadata": {
        "id": "7bf15fed-0c0f-4fba-99ca-e6828f46e1f4",
        "outputId": "6ac96fee-9ad5-47af-ec98-dfe103133db5"
      },
      "outputs": [
        {
          "name": "stdout",
          "output_type": "stream",
          "text": [
            "Error connecting to the service: HTTPSConnectionPool(host='geaevaluation-desa.kube.genexusconsulting.com', port=443): Max retries exceeded with url: /evaluationPlanApi/systemMetrics/ (Caused by NameResolutionError(\"<urllib3.connection.HTTPSConnection object at 0x0000019B9F40EF60>: Failed to resolve 'geaevaluation-desa.kube.genexusconsulting.com' ([Errno 11001] getaddrinfo failed)\"))\n"
          ]
        }
      ],
      "source": [
        "# Service URL\n",
        "url = f\"{global_url}/evaluationPlanApi/systemMetrics/\"\n",
        "\n",
        "try:\n",
        "    # Make the GET request\n",
        "    response = requests.get(url, headers=headers, verify=False)\n",
        "\n",
        "    # Check if the request was successful\n",
        "    if response.status_code == 200:\n",
        "        print(\"Service response:\")\n",
        "        print(response.json())  # If the response is in JSON format\n",
        "    else:\n",
        "        print(f\"Request error: {response.status_code}\")\n",
        "        print(response.text)\n",
        "\n",
        "except requests.exceptions.RequestException as e:\n",
        "    print(f\"Error connecting to the service: {e}\")"
      ]
    },
    {
      "cell_type": "markdown",
      "id": "151328a8-b506-40f6-acf8-3707bf96c981",
      "metadata": {
        "id": "151328a8-b506-40f6-acf8-3707bf96c981"
      },
      "source": [
        "## Retrieving a System Metric\n",
        "\n"
      ]
    },
    {
      "cell_type": "markdown",
      "id": "G9VVpecUhdQB",
      "metadata": {
        "id": "G9VVpecUhdQB"
      },
      "source": [
        "This endpoint retrieves a specific system metric by its `Id`."
      ]
    },
    {
      "cell_type": "code",
      "execution_count": null,
      "id": "a0e1f546-306f-4db7-bd38-c1400803adf6",
      "metadata": {
        "id": "a0e1f546-306f-4db7-bd38-c1400803adf6"
      },
      "outputs": [],
      "source": [
        "# Service URL\n",
        "url = f\"{global_url}/evaluationPlanApi/systemMetric/{global_system_metric_id}\"\n",
        "\n",
        "try:\n",
        "    # Make the GET request\n",
        "    response = requests.get(url, headers=headers, verify=False)\n",
        "\n",
        "    # Check if the request was successful\n",
        "    if response.status_code == 200:\n",
        "        print(\"Service response:\")\n",
        "        print(response.json())  # If the response is in JSON format\n",
        "    else:\n",
        "        print(f\"Request error: {response.status_code}\")\n",
        "        print(response.text)\n",
        "\n",
        "except requests.exceptions.RequestException as e:\n",
        "    print(f\"Error connecting to the service: {e}\")"
      ]
    },
    {
      "cell_type": "markdown",
      "id": "6fb70ffe-a708-40c7-80a1-28a268d7a897",
      "metadata": {
        "id": "6fb70ffe-a708-40c7-80a1-28a268d7a897"
      },
      "source": [
        "# Executing an Evaluation Plan"
      ]
    },
    {
      "cell_type": "markdown",
      "id": "yrl8HFbahkay",
      "metadata": {
        "id": "yrl8HFbahkay"
      },
      "source": [
        "You can execute a specific evaluation plan using the following endpoint:"
      ]
    },
    {
      "cell_type": "code",
      "execution_count": null,
      "id": "5afc484a-89d7-4d94-9b52-ba045370b84b",
      "metadata": {
        "id": "5afc484a-89d7-4d94-9b52-ba045370b84b"
      },
      "outputs": [],
      "source": [
        "# Service URL\n",
        "url = f\"{global_url}/evaluationPlanApi/evaluationPlan/{global_evaluation_plan_Id}\"\n",
        "\n",
        "# Make the POST request\n",
        "try:\n",
        "    response = requests.post(url,  headers=headers, verify=False)\n",
        "\n",
        "    # Check the response status code\n",
        "    if response.status_code == 200:\n",
        "        print(\"Request successful. Server response:\")\n",
        "        print(json.dumps(response.json(), indent=4))  # Print the response in JSON format\n",
        "    else:\n",
        "        print(f\"Request error: {response.status_code}\")\n",
        "        print(\"Server response:\")\n",
        "        print(response.text)\n",
        "\n",
        "except requests.exceptions.RequestException as e:\n",
        "    print(f\"Error connecting to the service: {e}\")"
      ]
    }
  ],
  "metadata": {
    "colab": {
      "provenance": []
    },
    "kernelspec": {
      "display_name": ".venv",
      "language": "python",
      "name": "python3"
    },
    "language_info": {
      "codemirror_mode": {
        "name": "ipython",
        "version": 3
      },
      "file_extension": ".py",
      "mimetype": "text/x-python",
      "name": "python",
      "nbconvert_exporter": "python",
      "pygments_lexer": "ipython3",
      "version": "3.10.11"
    }
  },
  "nbformat": 4,
  "nbformat_minor": 5
}
